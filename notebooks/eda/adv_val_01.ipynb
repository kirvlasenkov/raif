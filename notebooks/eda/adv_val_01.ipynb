{
  "nbformat": 4,
  "nbformat_minor": 0,
  "metadata": {
    "colab": {
      "name": "adv_val_01.ipynb",
      "provenance": []
    },
    "kernelspec": {
      "name": "python3",
      "display_name": "Python 3"
    },
    "language_info": {
      "name": "python"
    }
  },
  "cells": [
    {
      "cell_type": "code",
      "metadata": {
        "id": "TNxaARp1qOdW"
      },
      "source": [
        "import numpy as np\n",
        "import pandas as pd\n",
        "import gc\n",
        "import datetime\n",
        "\n",
        "from sklearn.model_selection import KFold\n",
        "import lightgbm as lgb\n",
        "\n",
        "import matplotlib.pylab as plt\n",
        "import seaborn as sns\n",
        "%matplotlib inline\n",
        "\n",
        "NFOLD = 5\n",
        "DATA_PATH = './'"
      ],
      "execution_count": 81,
      "outputs": []
    },
    {
      "cell_type": "code",
      "metadata": {
        "colab": {
          "base_uri": "https://localhost:8080/"
        },
        "id": "Y6XY3nWfqacV",
        "outputId": "af8b32ee-cb5d-4398-f200-9af578493a06"
      },
      "source": [
        "train = pd.read_csv(DATA_PATH + \"train.csv\")\n",
        "test = pd.read_csv(DATA_PATH + \"test.csv\")\n",
        "\n",
        "train.drop(['per_square_meter_price'], axis=1, inplace=True)\n",
        "\n",
        "train['target'] = 1\n",
        "train[train['price_type'] == 0]['target'] = 1\n",
        "train[train['price_type'] == 1]['target'] = 0\n",
        "test['target'] = 0\n",
        "\n",
        "n_train = train.shape[0]\n",
        "df = pd.concat([train, test], axis = 0)\n",
        "df.drop(['date'], axis=1, inplace=True)\n",
        "df.drop(['price_type'], axis=1, inplace=True)\n"
      ],
      "execution_count": 82,
      "outputs": [
        {
          "output_type": "stream",
          "name": "stderr",
          "text": [
            "/usr/local/lib/python3.7/dist-packages/IPython/core/interactiveshell.py:2718: DtypeWarning: Columns (1) have mixed types.Specify dtype option on import or set low_memory=False.\n",
            "  interactivity=interactivity, compiler=compiler, result=result)\n",
            "/usr/local/lib/python3.7/dist-packages/ipykernel_launcher.py:7: SettingWithCopyWarning: \n",
            "A value is trying to be set on a copy of a slice from a DataFrame.\n",
            "Try using .loc[row_indexer,col_indexer] = value instead\n",
            "\n",
            "See the caveats in the documentation: https://pandas.pydata.org/pandas-docs/stable/user_guide/indexing.html#returning-a-view-versus-a-copy\n",
            "  import sys\n",
            "/usr/local/lib/python3.7/dist-packages/ipykernel_launcher.py:8: SettingWithCopyWarning: \n",
            "A value is trying to be set on a copy of a slice from a DataFrame.\n",
            "Try using .loc[row_indexer,col_indexer] = value instead\n",
            "\n",
            "See the caveats in the documentation: https://pandas.pydata.org/pandas-docs/stable/user_guide/indexing.html#returning-a-view-versus-a-copy\n",
            "  \n"
          ]
        }
      ]
    },
    {
      "cell_type": "code",
      "metadata": {
        "colab": {
          "base_uri": "https://localhost:8080/"
        },
        "id": "eSPhTlk93g3z",
        "outputId": "1e3e1cb3-287c-4917-dd77-c5b83113fdd8"
      },
      "source": [
        "del train, test\n",
        "gc.collect()"
      ],
      "execution_count": 83,
      "outputs": [
        {
          "output_type": "execute_result",
          "data": {
            "text/plain": [
              "192"
            ]
          },
          "metadata": {},
          "execution_count": 83
        }
      ]
    },
    {
      "cell_type": "code",
      "metadata": {
        "id": "9r-immZ8qklq"
      },
      "source": [
        "predictors = list(df.columns.difference(['id', 'target']))\n",
        "df_train = df.iloc[:n_train].copy()\n",
        "cols_to_remove = [c for c in predictors if df_train[c].nunique() == 1]\n",
        "df.drop(cols_to_remove, axis=1, inplace=True)"
      ],
      "execution_count": 84,
      "outputs": []
    },
    {
      "cell_type": "code",
      "metadata": {
        "id": "pKDB7xYLrtmc"
      },
      "source": [
        "# Shuffle dataset\n",
        "df = df.iloc[np.random.permutation(len(df))]\n",
        "df.reset_index(drop=True, inplace=True)\n",
        "\n",
        "# Get target column name\n",
        "target = 'target'\n",
        "\n",
        "# lgb params\n",
        "lgb_params = {\n",
        "        'boosting': 'gbdt',\n",
        "        'application': 'binary',\n",
        "        'metric': 'auc', \n",
        "        'learning_rate': 0.001 ,\n",
        "        'num_leaves': 70,\n",
        "        'max_depth': 8,\n",
        "        'min_data_in_leaf': 21,\n",
        "        'bagging_fraction': 0.8,\n",
        "        'bagging_freq': 5,\n",
        "        'feature_fraction': 0.9,\n",
        "        'is_unbalance': True, \n",
        "} \n",
        "\n",
        "# Get folds for k-fold CV\n",
        "folds = KFold(n_splits = NFOLD, shuffle = True, random_state = 0)\n",
        "fold = folds.split(df)\n",
        "    \n",
        "eval_score = 0\n",
        "n_estimators = 0\n",
        "eval_preds = np.zeros(df.shape[0])"
      ],
      "execution_count": 85,
      "outputs": []
    },
    {
      "cell_type": "code",
      "metadata": {
        "id": "8ddcvRxCuHTg"
      },
      "source": [
        "data_numeric = df.select_dtypes(exclude=['object'])\n",
        "data_obj = df.select_dtypes(include=['object']).copy()"
      ],
      "execution_count": 86,
      "outputs": []
    },
    {
      "cell_type": "code",
      "metadata": {
        "id": "pEnR0g0cuHL5"
      },
      "source": [
        "for c in data_obj:\n",
        "    data_obj[c] = pd.factorize(data_obj[c])[0]"
      ],
      "execution_count": 87,
      "outputs": []
    },
    {
      "cell_type": "code",
      "metadata": {
        "id": "SH639tcZuHFY"
      },
      "source": [
        "df = pd.concat([data_numeric, data_obj], axis=1)\n",
        "y = df['target'];"
      ],
      "execution_count": 88,
      "outputs": []
    },
    {
      "cell_type": "code",
      "metadata": {
        "colab": {
          "base_uri": "https://localhost:8080/"
        },
        "id": "WoBbLA0or5X2",
        "outputId": "f6df0b97-05a6-4b3c-9204-edd666c10737"
      },
      "source": [
        "for i, (train_index, test_index) in enumerate(fold):\n",
        "    print( \"\\n[{}] Fold {} of {}\".format(datetime.datetime.now().strftime(\"%Y-%m-%d %H:%M:%S\"), i+1, NFOLD))\n",
        "    train_X, valid_X = df[predictors].values[train_index], df[predictors].values[test_index]\n",
        "    train_y, valid_y = df[target].values[train_index], df[target].values[test_index]\n",
        "\n",
        "    dtrain = lgb.Dataset(train_X, label = train_y,\n",
        "                          feature_name = list(predictors)\n",
        "                          )\n",
        "    \n",
        "    dvalid = lgb.Dataset(valid_X, label = valid_y,\n",
        "                          feature_name = list(predictors)\n",
        "                          )\n",
        "        \n",
        "    eval_results = {}\n",
        "    \n",
        "    bst = lgb.train(lgb_params, \n",
        "                         dtrain, \n",
        "                         valid_sets = [dtrain, dvalid], \n",
        "                         valid_names = ['train', 'valid'], \n",
        "                         evals_result = eval_results, \n",
        "                         num_boost_round = 5000,\n",
        "                         early_stopping_rounds = 100,\n",
        "                         verbose_eval = 100)\n",
        "    \n",
        "    print(\"\\nRounds:\", bst.best_iteration)\n",
        "    print(\"AUC: \", eval_results['valid']['auc'][bst.best_iteration-1])\n",
        "\n",
        "    n_estimators += bst.best_iteration\n",
        "    eval_score += eval_results['valid']['auc'][bst.best_iteration-1]\n",
        "   \n",
        "    eval_preds[test_index] += bst.predict(valid_X, num_iteration = bst.best_iteration)\n",
        "    \n",
        "n_estimators = int(round(n_estimators/NFOLD,0))\n",
        "eval_score = round(eval_score/NFOLD,6)\n",
        "\n",
        "print(\"\\nModel Report\")\n",
        "print(\"Rounds: \", n_estimators)\n",
        "print(\"AUC: \", eval_score)    "
      ],
      "execution_count": 89,
      "outputs": [
        {
          "output_type": "stream",
          "name": "stdout",
          "text": [
            "\n",
            "[2021-09-25 12:18:30] Fold 1 of 5\n",
            "Training until validation scores don't improve for 100 rounds.\n",
            "[100]\ttrain's auc: 0.986389\tvalid's auc: 0.975699\n",
            "[200]\ttrain's auc: 0.988425\tvalid's auc: 0.977145\n",
            "[300]\ttrain's auc: 0.989934\tvalid's auc: 0.97799\n",
            "[400]\ttrain's auc: 0.991312\tvalid's auc: 0.979079\n",
            "[500]\ttrain's auc: 0.992492\tvalid's auc: 0.979779\n",
            "[600]\ttrain's auc: 0.993537\tvalid's auc: 0.980039\n",
            "[700]\ttrain's auc: 0.99451\tvalid's auc: 0.980172\n",
            "[800]\ttrain's auc: 0.995486\tvalid's auc: 0.9803\n",
            "[900]\ttrain's auc: 0.996318\tvalid's auc: 0.980409\n",
            "[1000]\ttrain's auc: 0.996948\tvalid's auc: 0.980459\n",
            "[1100]\ttrain's auc: 0.99742\tvalid's auc: 0.980507\n",
            "[1200]\ttrain's auc: 0.997815\tvalid's auc: 0.980428\n",
            "Early stopping, best iteration is:\n",
            "[1113]\ttrain's auc: 0.997483\tvalid's auc: 0.980521\n",
            "\n",
            "Rounds: 1113\n",
            "AUC:  0.9805210304190003\n",
            "\n",
            "[2021-09-25 12:20:48] Fold 2 of 5\n",
            "Training until validation scores don't improve for 100 rounds.\n",
            "[100]\ttrain's auc: 0.986422\tvalid's auc: 0.976512\n",
            "[200]\ttrain's auc: 0.988426\tvalid's auc: 0.978734\n",
            "[300]\ttrain's auc: 0.990141\tvalid's auc: 0.980051\n",
            "[400]\ttrain's auc: 0.991443\tvalid's auc: 0.980738\n",
            "[500]\ttrain's auc: 0.992638\tvalid's auc: 0.981137\n",
            "[600]\ttrain's auc: 0.993726\tvalid's auc: 0.981181\n",
            "[700]\ttrain's auc: 0.994658\tvalid's auc: 0.981228\n",
            "Early stopping, best iteration is:\n",
            "[686]\ttrain's auc: 0.994522\tvalid's auc: 0.981288\n",
            "\n",
            "Rounds: 686\n",
            "AUC:  0.9812877068546398\n",
            "\n",
            "[2021-09-25 12:22:17] Fold 3 of 5\n",
            "Training until validation scores don't improve for 100 rounds.\n",
            "[100]\ttrain's auc: 0.986166\tvalid's auc: 0.971976\n",
            "[200]\ttrain's auc: 0.988653\tvalid's auc: 0.974888\n",
            "[300]\ttrain's auc: 0.990433\tvalid's auc: 0.975942\n",
            "[400]\ttrain's auc: 0.991688\tvalid's auc: 0.976574\n",
            "[500]\ttrain's auc: 0.992782\tvalid's auc: 0.977164\n",
            "[600]\ttrain's auc: 0.993764\tvalid's auc: 0.977444\n",
            "[700]\ttrain's auc: 0.994702\tvalid's auc: 0.97752\n",
            "[800]\ttrain's auc: 0.995629\tvalid's auc: 0.97769\n",
            "[900]\ttrain's auc: 0.996452\tvalid's auc: 0.977828\n",
            "[1000]\ttrain's auc: 0.997055\tvalid's auc: 0.977795\n",
            "Early stopping, best iteration is:\n",
            "[906]\ttrain's auc: 0.996495\tvalid's auc: 0.977856\n",
            "\n",
            "Rounds: 906\n",
            "AUC:  0.9778562566888038\n",
            "\n",
            "[2021-09-25 12:24:12] Fold 4 of 5\n",
            "Training until validation scores don't improve for 100 rounds.\n",
            "[100]\ttrain's auc: 0.986508\tvalid's auc: 0.975751\n",
            "[200]\ttrain's auc: 0.988636\tvalid's auc: 0.977866\n",
            "[300]\ttrain's auc: 0.990157\tvalid's auc: 0.979489\n",
            "[400]\ttrain's auc: 0.991336\tvalid's auc: 0.980186\n",
            "[500]\ttrain's auc: 0.992535\tvalid's auc: 0.980784\n",
            "[600]\ttrain's auc: 0.993608\tvalid's auc: 0.980831\n",
            "Early stopping, best iteration is:\n",
            "[533]\ttrain's auc: 0.992918\tvalid's auc: 0.980863\n",
            "\n",
            "Rounds: 533\n",
            "AUC:  0.9808630717568744\n",
            "\n",
            "[2021-09-25 12:25:23] Fold 5 of 5\n",
            "Training until validation scores don't improve for 100 rounds.\n",
            "[100]\ttrain's auc: 0.986637\tvalid's auc: 0.976127\n",
            "[200]\ttrain's auc: 0.988639\tvalid's auc: 0.978046\n",
            "[300]\ttrain's auc: 0.990231\tvalid's auc: 0.979458\n",
            "[400]\ttrain's auc: 0.991475\tvalid's auc: 0.980024\n",
            "[500]\ttrain's auc: 0.992796\tvalid's auc: 0.980785\n",
            "[600]\ttrain's auc: 0.993894\tvalid's auc: 0.980868\n",
            "[700]\ttrain's auc: 0.994905\tvalid's auc: 0.981154\n",
            "[800]\ttrain's auc: 0.995729\tvalid's auc: 0.981227\n",
            "[900]\ttrain's auc: 0.996408\tvalid's auc: 0.981313\n",
            "Early stopping, best iteration is:\n",
            "[874]\ttrain's auc: 0.996276\tvalid's auc: 0.981346\n",
            "\n",
            "Rounds: 874\n",
            "AUC:  0.9813458719342104\n",
            "\n",
            "Model Report\n",
            "Rounds:  822\n",
            "AUC:  0.980375\n"
          ]
        }
      ]
    },
    {
      "cell_type": "code",
      "metadata": {
        "colab": {
          "base_uri": "https://localhost:8080/",
          "height": 327
        },
        "id": "4D8M7Il6r-Ti",
        "outputId": "bf414a02-fb70-456b-d234-eb07f5314bba"
      },
      "source": [
        "plt.figure(figsize=(15, 8))\n",
        "lgb.plot_importance(bst, max_num_features=20)"
      ],
      "execution_count": 92,
      "outputs": [
        {
          "output_type": "execute_result",
          "data": {
            "text/plain": [
              "<matplotlib.axes._subplots.AxesSubplot at 0x7f8ee28eb750>"
            ]
          },
          "metadata": {},
          "execution_count": 92
        },
        {
          "output_type": "display_data",
          "data": {
            "text/plain": [
              "<Figure size 1080x576 with 0 Axes>"
            ]
          },
          "metadata": {}
        },
        {
          "output_type": "display_data",
          "data": {
            "image/png": "[encoded data removed]",
            "text/plain": [
              "<Figure size 432x288 with 1 Axes>"
            ]
          },
          "metadata": {
            "needs_background": "light"
          }
        }
      ]
    },
    {
      "cell_type": "code",
      "metadata": {
        "colab": {
          "base_uri": "https://localhost:8080/",
          "height": 263
        },
        "id": "Shtm7z6E2TIm",
        "outputId": "a445494d-992b-47a2-9896-c20b3cea9e91"
      },
      "source": [
        "df_av = df[['id', 'target']].copy()\n",
        "df_av['preds'] = eval_preds\n",
        "df_av_train = df_av[df_av.target == 1]\n",
        "df_av_train = df_av_train.sort_values(by=['preds']).reset_index(drop=True)\n",
        "\n",
        "# Check distribution\n",
        "df_av_train.preds.plot()\n",
        "\n",
        "# Store to feather\n",
        "df_av_train[['id', 'preds']].reset_index(drop=True).to_feather('adversarial_validation.ft')"
      ],
      "execution_count": 93,
      "outputs": [
        {
          "output_type": "display_data",
          "data": {
            "image/png": "[encoded data removed]",
            "text/plain": [
              "<Figure size 432x288 with 1 Axes>"
            ]
          },
          "metadata": {
            "needs_background": "light"
          }
        }
      ]
    },
    {
      "cell_type": "code",
      "metadata": {
        "colab": {
          "base_uri": "https://localhost:8080/",
          "height": 565
        },
        "id": "bZC22CxI6MZ_",
        "outputId": "a981722c-6daf-471e-9a11-c951ab696ee2"
      },
      "source": [
        "plt.figure(figsize=(15, 8))\n",
        "sns.distplot(df_av_train['preds'])"
      ],
      "execution_count": 94,
      "outputs": [
        {
          "output_type": "stream",
          "name": "stderr",
          "text": [
            "/usr/local/lib/python3.7/dist-packages/seaborn/distributions.py:2619: FutureWarning: `distplot` is a deprecated function and will be removed in a future version. Please adapt your code to use either `displot` (a figure-level function with similar flexibility) or `histplot` (an axes-level function for histograms).\n",
            "  warnings.warn(msg, FutureWarning)\n"
          ]
        },
        {
          "output_type": "execute_result",
          "data": {
            "text/plain": [
              "<matplotlib.axes._subplots.AxesSubplot at 0x7f8ede8e0590>"
            ]
          },
          "metadata": {},
          "execution_count": 94
        },
        {
          "output_type": "display_data",
          "data": {
            "image/png": "[encoded data removed]",
            "text/plain": [
              "<Figure size 1080x576 with 1 Axes>"
            ]
          },
          "metadata": {
            "needs_background": "light"
          }
        }
      ]
    },
    {
      "cell_type": "code",
      "metadata": {
        "colab": {
          "base_uri": "https://localhost:8080/"
        },
        "id": "OoI-XFRG9G_b",
        "outputId": "ebd61139-df7c-4cdf-bdad-63f737fbbbd1"
      },
      "source": [
        "for th in [0.6, 0.7, 0.8]:\n",
        "    print(f\"Количество объектов трейна, которые модель слабо отличает от теста при пороге == {th}: {df_av_train[df_av_train['preds'] < th].shape[0]}\")"
      ],
      "execution_count": 100,
      "outputs": [
        {
          "output_type": "stream",
          "name": "stdout",
          "text": [
            "Количество объектов трейна, которые модель слабо отличает от теста при пороге == 0.6: 16373\n",
            "Количество объектов трейна, которые модель слабо отличает от теста при пороге == 0.7: 19190\n",
            "Количество объектов трейна, которые модель слабо отличает от теста при пороге == 0.8: 22893\n"
          ]
        }
      ]
    }
  ]
}