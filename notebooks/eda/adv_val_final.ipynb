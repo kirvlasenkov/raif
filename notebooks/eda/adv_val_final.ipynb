{
  "nbformat": 4,
  "nbformat_minor": 0,
  "metadata": {
    "colab": {
      "name": "adv_val_01.ipynb",
      "provenance": []
    },
    "kernelspec": {
      "name": "python3",
      "display_name": "Python 3"
    },
    "language_info": {
      "name": "python"
    }
  },
  "cells": [
    {
      "cell_type": "code",
      "metadata": {
        "id": "TNxaARp1qOdW"
      },
      "source": [
        "import numpy as np\n",
        "import pandas as pd\n",
        "import gc\n",
        "import datetime\n",
        "\n",
        "from sklearn.model_selection import KFold\n",
        "import lightgbm as lgb\n",
        "\n",
        "import matplotlib.pylab as plt\n",
        "import seaborn as sns\n",
        "%matplotlib inline\n",
        "\n",
        "NFOLD = 5\n",
        "DATA_PATH = './'"
      ],
      "execution_count": 48,
      "outputs": []
    },
    {
      "cell_type": "code",
      "metadata": {
        "colab": {
          "base_uri": "https://localhost:8080/"
        },
        "id": "Y6XY3nWfqacV",
        "outputId": "e1b1ea9c-a1f3-434a-fe2f-0899056a8571"
      },
      "source": [
        "train = pd.read_csv(DATA_PATH + \"train.csv\")\n",
        "test = pd.read_csv(DATA_PATH + \"test.csv\")\n",
        "print(f'train -- {train.shape}')\n",
        "\n",
        "train.drop(['per_square_meter_price'], axis=1, inplace=True)\n",
        "\n",
        "train['target'] = 1\n",
        "train[train['price_type'] == 0]['target'] = 1\n",
        "train[train['price_type'] == 1]['target'] = 0\n",
        "test['target'] = 0\n",
        "\n",
        "print(f'train -- {train.shape}')\n",
        "print(f'test -- {test.shape}')\n",
        "\n",
        "n_train = train.shape[0]\n",
        "df = pd.concat([train, test], axis = 0)\n",
        "df.drop(['date'], axis=1, inplace=True)\n",
        "df.drop(['price_type'], axis=1, inplace=True)\n",
        "df.drop(['lng'], axis=1, inplace=True)\n",
        "df.drop(['lat'], axis=1, inplace=True)\n",
        "df.drop(['region'], axis=1, inplace=True)"
      ],
      "execution_count": 49,
      "outputs": [
        {
          "output_type": "stream",
          "name": "stderr",
          "text": [
            "/usr/local/lib/python3.7/dist-packages/IPython/core/interactiveshell.py:2718: DtypeWarning: Columns (1) have mixed types.Specify dtype option on import or set low_memory=False.\n",
            "  interactivity=interactivity, compiler=compiler, result=result)\n"
          ]
        },
        {
          "output_type": "stream",
          "name": "stdout",
          "text": [
            "train -- (279792, 77)\n"
          ]
        },
        {
          "output_type": "stream",
          "name": "stderr",
          "text": [
            "/usr/local/lib/python3.7/dist-packages/ipykernel_launcher.py:8: SettingWithCopyWarning: \n",
            "A value is trying to be set on a copy of a slice from a DataFrame.\n",
            "Try using .loc[row_indexer,col_indexer] = value instead\n",
            "\n",
            "See the caveats in the documentation: https://pandas.pydata.org/pandas-docs/stable/user_guide/indexing.html#returning-a-view-versus-a-copy\n",
            "  \n",
            "/usr/local/lib/python3.7/dist-packages/ipykernel_launcher.py:9: SettingWithCopyWarning: \n",
            "A value is trying to be set on a copy of a slice from a DataFrame.\n",
            "Try using .loc[row_indexer,col_indexer] = value instead\n",
            "\n",
            "See the caveats in the documentation: https://pandas.pydata.org/pandas-docs/stable/user_guide/indexing.html#returning-a-view-versus-a-copy\n",
            "  if __name__ == '__main__':\n"
          ]
        },
        {
          "output_type": "stream",
          "name": "stdout",
          "text": [
            "train -- (279792, 77)\n",
            "test -- (2974, 77)\n"
          ]
        }
      ]
    },
    {
      "cell_type": "code",
      "metadata": {
        "id": "AGEKfcEd05cH",
        "outputId": "07231c3c-3cbe-4031-f24f-2bf145a50338",
        "colab": {
          "base_uri": "https://localhost:8080/"
        }
      },
      "source": [
        "print(df.shape)"
      ],
      "execution_count": 50,
      "outputs": [
        {
          "output_type": "stream",
          "name": "stdout",
          "text": [
            "(282766, 72)\n"
          ]
        }
      ]
    },
    {
      "cell_type": "code",
      "metadata": {
        "colab": {
          "base_uri": "https://localhost:8080/"
        },
        "id": "eSPhTlk93g3z",
        "outputId": "c78d6a2c-853d-4072-d0b1-8524f454b15f"
      },
      "source": [
        "del train, test\n",
        "gc.collect()"
      ],
      "execution_count": 51,
      "outputs": [
        {
          "output_type": "execute_result",
          "data": {
            "text/plain": [
              "2885"
            ]
          },
          "metadata": {},
          "execution_count": 51
        }
      ]
    },
    {
      "cell_type": "code",
      "metadata": {
        "id": "9r-immZ8qklq"
      },
      "source": [
        "predictors = list(df.columns.difference(['id', 'target']))\n",
        "df_train = df.iloc[:n_train].copy()\n",
        "cols_to_remove = [c for c in predictors if df_train[c].nunique() == 1]\n",
        "df.drop(cols_to_remove, axis=1, inplace=True)"
      ],
      "execution_count": 52,
      "outputs": []
    },
    {
      "cell_type": "code",
      "metadata": {
        "id": "pKDB7xYLrtmc"
      },
      "source": [
        "# Shuffle dataset\n",
        "df = df.iloc[np.random.permutation(len(df))]\n",
        "df.reset_index(drop=True, inplace=True)\n",
        "\n",
        "# Get target column name\n",
        "target = 'target'\n",
        "\n",
        "# lgb params\n",
        "lgb_params = {\n",
        "        'boosting': 'gbdt',\n",
        "        'application': 'binary',\n",
        "        'metric': 'auc', \n",
        "        'learning_rate': 0.001 ,\n",
        "        'num_leaves': 70,\n",
        "        'max_depth': 8,\n",
        "        'min_data_in_leaf': 21,\n",
        "        'bagging_fraction': 0.8,\n",
        "        'bagging_freq': 5,\n",
        "        'feature_fraction': 0.9,\n",
        "        'is_unbalance': True, \n",
        "} \n",
        "\n",
        "# Get folds for k-fold CV\n",
        "folds = KFold(n_splits = NFOLD, shuffle = True, random_state = 0)\n",
        "fold = folds.split(df)\n",
        "    \n",
        "eval_score = 0\n",
        "n_estimators = 0\n",
        "eval_preds = np.zeros(df.shape[0])"
      ],
      "execution_count": 53,
      "outputs": []
    },
    {
      "cell_type": "code",
      "metadata": {
        "id": "8ddcvRxCuHTg"
      },
      "source": [
        "data_numeric = df.select_dtypes(exclude=['object'])\n",
        "data_obj = df.select_dtypes(include=['object']).copy()"
      ],
      "execution_count": 54,
      "outputs": []
    },
    {
      "cell_type": "code",
      "metadata": {
        "id": "pEnR0g0cuHL5"
      },
      "source": [
        "for c in data_obj:\n",
        "    data_obj[c] = pd.factorize(data_obj[c])[0]"
      ],
      "execution_count": 55,
      "outputs": []
    },
    {
      "cell_type": "code",
      "metadata": {
        "id": "SH639tcZuHFY"
      },
      "source": [
        "df = pd.concat([data_numeric, data_obj], axis=1)\n",
        "y = df['target'];"
      ],
      "execution_count": 56,
      "outputs": []
    },
    {
      "cell_type": "code",
      "metadata": {
        "colab": {
          "base_uri": "https://localhost:8080/"
        },
        "id": "WoBbLA0or5X2",
        "outputId": "3b518413-8e6c-4db3-bea1-6ba7c455eecf"
      },
      "source": [
        "for i, (train_index, test_index) in enumerate(fold):\n",
        "    print( \"\\n[{}] Fold {} of {}\".format(datetime.datetime.now().strftime(\"%Y-%m-%d %H:%M:%S\"), i+1, NFOLD))\n",
        "    train_X, valid_X = df[predictors].values[train_index], df[predictors].values[test_index]\n",
        "    train_y, valid_y = df[target].values[train_index], df[target].values[test_index]\n",
        "\n",
        "    dtrain = lgb.Dataset(train_X, label = train_y,\n",
        "                          feature_name = list(predictors)\n",
        "                          )\n",
        "    \n",
        "    dvalid = lgb.Dataset(valid_X, label = valid_y,\n",
        "                          feature_name = list(predictors)\n",
        "                          )\n",
        "        \n",
        "    eval_results = {}\n",
        "    \n",
        "    bst = lgb.train(lgb_params, \n",
        "                         dtrain, \n",
        "                         valid_sets = [dtrain, dvalid], \n",
        "                         valid_names = ['train', 'valid'], \n",
        "                         evals_result = eval_results, \n",
        "                         num_boost_round = 500,\n",
        "                         early_stopping_rounds = 100,\n",
        "                         verbose_eval = 100)\n",
        "    \n",
        "    print(\"\\nRounds:\", bst.best_iteration)\n",
        "    print(\"AUC: \", eval_results['valid']['auc'][bst.best_iteration-1])\n",
        "\n",
        "    n_estimators += bst.best_iteration\n",
        "    eval_score += eval_results['valid']['auc'][bst.best_iteration-1]\n",
        "   \n",
        "    eval_preds[test_index] += bst.predict(valid_X, num_iteration = bst.best_iteration)\n",
        "    \n",
        "n_estimators = int(round(n_estimators/NFOLD,0))\n",
        "eval_score = round(eval_score/NFOLD,6)\n",
        "\n",
        "print(\"\\nModel Report\")\n",
        "print(\"Rounds: \", n_estimators)\n",
        "print(\"AUC: \", eval_score)    "
      ],
      "execution_count": 57,
      "outputs": [
        {
          "output_type": "stream",
          "name": "stdout",
          "text": [
            "\n",
            "[2021-09-25 16:46:41] Fold 1 of 5\n",
            "Training until validation scores don't improve for 100 rounds.\n",
            "[100]\ttrain's auc: 0.979516\tvalid's auc: 0.966001\n",
            "[200]\ttrain's auc: 0.980575\tvalid's auc: 0.966437\n",
            "[300]\ttrain's auc: 0.98146\tvalid's auc: 0.96718\n",
            "[400]\ttrain's auc: 0.982299\tvalid's auc: 0.968045\n",
            "[500]\ttrain's auc: 0.982994\tvalid's auc: 0.968869\n",
            "Did not meet early stopping. Best iteration is:\n",
            "[500]\ttrain's auc: 0.982994\tvalid's auc: 0.968869\n",
            "\n",
            "Rounds: 500\n",
            "AUC:  0.9688688942579659\n",
            "\n",
            "[2021-09-25 16:47:49] Fold 2 of 5\n",
            "Training until validation scores don't improve for 100 rounds.\n",
            "[100]\ttrain's auc: 0.978969\tvalid's auc: 0.958692\n",
            "Early stopping, best iteration is:\n",
            "[12]\ttrain's auc: 0.975533\tvalid's auc: 0.960467\n",
            "\n",
            "Rounds: 12\n",
            "AUC:  0.960466989479062\n",
            "\n",
            "[2021-09-25 16:48:05] Fold 3 of 5\n",
            "Training until validation scores don't improve for 100 rounds.\n",
            "[100]\ttrain's auc: 0.979356\tvalid's auc: 0.968852\n",
            "[200]\ttrain's auc: 0.980378\tvalid's auc: 0.969748\n",
            "[300]\ttrain's auc: 0.981725\tvalid's auc: 0.970983\n",
            "[400]\ttrain's auc: 0.982673\tvalid's auc: 0.971997\n",
            "[500]\ttrain's auc: 0.983422\tvalid's auc: 0.972894\n",
            "Did not meet early stopping. Best iteration is:\n",
            "[500]\ttrain's auc: 0.983422\tvalid's auc: 0.972894\n",
            "\n",
            "Rounds: 500\n",
            "AUC:  0.9728936275349933\n",
            "\n",
            "[2021-09-25 16:49:13] Fold 4 of 5\n",
            "Training until validation scores don't improve for 100 rounds.\n",
            "[100]\ttrain's auc: 0.978491\tvalid's auc: 0.965808\n",
            "[200]\ttrain's auc: 0.980374\tvalid's auc: 0.967664\n",
            "[300]\ttrain's auc: 0.98162\tvalid's auc: 0.968856\n",
            "[400]\ttrain's auc: 0.982428\tvalid's auc: 0.969548\n",
            "[500]\ttrain's auc: 0.983369\tvalid's auc: 0.970517\n",
            "Did not meet early stopping. Best iteration is:\n",
            "[500]\ttrain's auc: 0.983369\tvalid's auc: 0.970517\n",
            "\n",
            "Rounds: 500\n",
            "AUC:  0.9705167452219339\n",
            "\n",
            "[2021-09-25 16:50:21] Fold 5 of 5\n",
            "Training until validation scores don't improve for 100 rounds.\n",
            "[100]\ttrain's auc: 0.979362\tvalid's auc: 0.964933\n",
            "[200]\ttrain's auc: 0.980702\tvalid's auc: 0.965535\n",
            "[300]\ttrain's auc: 0.98163\tvalid's auc: 0.966106\n",
            "[400]\ttrain's auc: 0.982546\tvalid's auc: 0.966912\n",
            "[500]\ttrain's auc: 0.983343\tvalid's auc: 0.967721\n",
            "Did not meet early stopping. Best iteration is:\n",
            "[500]\ttrain's auc: 0.983343\tvalid's auc: 0.967721\n",
            "\n",
            "Rounds: 500\n",
            "AUC:  0.9677213584118617\n",
            "\n",
            "Model Report\n",
            "Rounds:  402\n",
            "AUC:  0.968094\n"
          ]
        }
      ]
    },
    {
      "cell_type": "code",
      "metadata": {
        "colab": {
          "base_uri": "https://localhost:8080/",
          "height": 327
        },
        "id": "4D8M7Il6r-Ti",
        "outputId": "440b8998-4da7-4fc7-d96a-275ce7bd4f86"
      },
      "source": [
        "plt.figure(figsize=(15, 8))\n",
        "lgb.plot_importance(bst, max_num_features=20)"
      ],
      "execution_count": 58,
      "outputs": [
        {
          "output_type": "execute_result",
          "data": {
            "text/plain": [
              "<matplotlib.axes._subplots.AxesSubplot at 0x7fe34bfa4510>"
            ]
          },
          "metadata": {},
          "execution_count": 58
        },
        {
          "output_type": "display_data",
          "data": {
            "text/plain": [
              "<Figure size 1080x576 with 0 Axes>"
            ]
          },
          "metadata": {}
        },
        {
          "output_type": "display_data",
          "data": {
            "image/png": "[encoded data removed]",
            "text/plain": [
              "<Figure size 432x288 with 1 Axes>"
            ]
          },
          "metadata": {
            "needs_background": "light"
          }
        }
      ]
    },
    {
      "cell_type": "code",
      "metadata": {
        "colab": {
          "base_uri": "https://localhost:8080/",
          "height": 263
        },
        "id": "Shtm7z6E2TIm",
        "outputId": "75d4a8a3-4f1d-499c-8679-1c154485ac81"
      },
      "source": [
        "df_av = df[['id', 'target']].copy()\n",
        "df_av['preds'] = eval_preds\n",
        "df_av_train = df_av[df_av.target == 1]\n",
        "df_av_train = df_av_train.sort_values(by=['preds']).reset_index(drop=True)\n",
        "\n",
        "# Check distribution\n",
        "df_av_train.preds.plot()\n",
        "\n",
        "# Store to feather\n",
        "df_av_train[['id', 'preds']].reset_index(drop=True).to_feather('adversarial_validation.ft')"
      ],
      "execution_count": 59,
      "outputs": [
        {
          "output_type": "display_data",
          "data": {
            "image/png": "[encoded data removed]",
            "text/plain": [
              "<Figure size 432x288 with 1 Axes>"
            ]
          },
          "metadata": {
            "needs_background": "light"
          }
        }
      ]
    },
    {
      "cell_type": "code",
      "metadata": {
        "id": "5xhoGEuM00YL",
        "outputId": "d3b9d49b-f946-4d56-ecd8-5cbc1533b87c",
        "colab": {
          "base_uri": "https://localhost:8080/"
        }
      },
      "source": [
        "df.shape"
      ],
      "execution_count": 60,
      "outputs": [
        {
          "output_type": "execute_result",
          "data": {
            "text/plain": [
              "(282766, 72)"
            ]
          },
          "metadata": {},
          "execution_count": 60
        }
      ]
    },
    {
      "cell_type": "code",
      "metadata": {
        "colab": {
          "base_uri": "https://localhost:8080/",
          "height": 565
        },
        "id": "bZC22CxI6MZ_",
        "outputId": "0ad1d31b-c3ba-45b6-a4fe-8160545ba9e2"
      },
      "source": [
        "plt.figure(figsize=(15, 8))\n",
        "sns.distplot(df_av_train['preds'])"
      ],
      "execution_count": 61,
      "outputs": [
        {
          "output_type": "stream",
          "name": "stderr",
          "text": [
            "/usr/local/lib/python3.7/dist-packages/seaborn/distributions.py:2619: FutureWarning: `distplot` is a deprecated function and will be removed in a future version. Please adapt your code to use either `displot` (a figure-level function with similar flexibility) or `histplot` (an axes-level function for histograms).\n",
            "  warnings.warn(msg, FutureWarning)\n"
          ]
        },
        {
          "output_type": "execute_result",
          "data": {
            "text/plain": [
              "<matplotlib.axes._subplots.AxesSubplot at 0x7fe34bf3e850>"
            ]
          },
          "metadata": {},
          "execution_count": 61
        },
        {
          "output_type": "display_data",
          "data": {
            "image/png": "[encoded data removed]",
            "text/plain": [
              "<Figure size 1080x576 with 1 Axes>"
            ]
          },
          "metadata": {
            "needs_background": "light"
          }
        }
      ]
    },
    {
      "cell_type": "code",
      "metadata": {
        "colab": {
          "base_uri": "https://localhost:8080/"
        },
        "id": "OoI-XFRG9G_b",
        "outputId": "283700e4-6f91-4eaa-ba2d-d265e1e99ee8"
      },
      "source": [
        "for th in [0.6, 0.7, 0.8]:\n",
        "    print(f\"Количество объектов трейна, которые модель слабо отличает от теста при пороге == {th}: {df_av_train[df_av_train['preds'] < th].shape[0]}\")"
      ],
      "execution_count": 62,
      "outputs": [
        {
          "output_type": "stream",
          "name": "stdout",
          "text": [
            "Количество объектов трейна, которые модель слабо отличает от теста при пороге == 0.6: 19\n",
            "Количество объектов трейна, которые модель слабо отличает от теста при пороге == 0.7: 5854\n",
            "Количество объектов трейна, которые модель слабо отличает от теста при пороге == 0.8: 22225\n"
          ]
        }
      ]
    },
    {
      "cell_type": "code",
      "metadata": {
        "id": "O1ZzEG-HG4mk"
      },
      "source": [
        ""
      ],
      "execution_count": null,
      "outputs": []
    }
  ]
}