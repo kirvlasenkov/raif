{
  "nbformat": 4,
  "nbformat_minor": 0,
  "metadata": {
    "colab": {
      "name": "adv_val_01.ipynb",
      "provenance": []
    },
    "kernelspec": {
      "name": "python3",
      "display_name": "Python 3"
    },
    "language_info": {
      "name": "python"
    }
  },
  "cells": [
    {
      "cell_type": "code",
      "metadata": {
        "id": "TNxaARp1qOdW"
      },
      "source": [
        "import numpy as np\n",
        "import pandas as pd\n",
        "import gc\n",
        "import datetime\n",
        "\n",
        "from sklearn.model_selection import KFold\n",
        "import lightgbm as lgb\n",
        "\n",
        "import matplotlib.pylab as plt\n",
        "import seaborn as sns\n",
        "%matplotlib inline\n",
        "\n",
        "from scipy.spatial.distance import cosine\n",
        "\n",
        "NFOLD = 5\n",
        "DATA_PATH = './'"
      ],
      "execution_count": 131,
      "outputs": []
    },
    {
      "cell_type": "code",
      "metadata": {
        "colab": {
          "base_uri": "https://localhost:8080/"
        },
        "id": "Y6XY3nWfqacV",
        "outputId": "0caafb33-336e-4a5a-abc7-e9ff443510ac"
      },
      "source": [
        "train = pd.read_csv(DATA_PATH + \"train.csv\")\n",
        "test = pd.read_csv(DATA_PATH + \"test.csv\")\n",
        "print(f'train -- {train.shape}')\n",
        "\n",
        "train.drop(['per_square_meter_price'], axis=1, inplace=True)\n",
        "\n",
        "train['target'] = 1\n",
        "train[train['price_type'] == 0]['target'] = 1\n",
        "train[train['price_type'] == 1]['target'] = 0\n",
        "test['target'] = 0\n",
        "\n",
        "print(f'train -- {train.shape}')\n",
        "print(f'test -- {test.shape}')\n",
        "\n",
        "n_train = train.shape[0]\n",
        "df = pd.concat([train, test], axis = 0)\n",
        "df.drop(['date'], axis=1, inplace=True)\n",
        "df.drop(['lng'], axis=1, inplace=True)\n",
        "df.drop(['lat'], axis=1, inplace=True)\n",
        "df.drop(['region'], axis=1, inplace=True)"
      ],
      "execution_count": 102,
      "outputs": [
        {
          "output_type": "stream",
          "name": "stderr",
          "text": [
            "/usr/local/lib/python3.7/dist-packages/IPython/core/interactiveshell.py:2718: DtypeWarning: Columns (1) have mixed types.Specify dtype option on import or set low_memory=False.\n",
            "  interactivity=interactivity, compiler=compiler, result=result)\n"
          ]
        },
        {
          "output_type": "stream",
          "name": "stdout",
          "text": [
            "train -- (279792, 77)\n"
          ]
        },
        {
          "output_type": "stream",
          "name": "stderr",
          "text": [
            "/usr/local/lib/python3.7/dist-packages/ipykernel_launcher.py:8: SettingWithCopyWarning: \n",
            "A value is trying to be set on a copy of a slice from a DataFrame.\n",
            "Try using .loc[row_indexer,col_indexer] = value instead\n",
            "\n",
            "See the caveats in the documentation: https://pandas.pydata.org/pandas-docs/stable/user_guide/indexing.html#returning-a-view-versus-a-copy\n",
            "  \n",
            "/usr/local/lib/python3.7/dist-packages/ipykernel_launcher.py:9: SettingWithCopyWarning: \n",
            "A value is trying to be set on a copy of a slice from a DataFrame.\n",
            "Try using .loc[row_indexer,col_indexer] = value instead\n",
            "\n",
            "See the caveats in the documentation: https://pandas.pydata.org/pandas-docs/stable/user_guide/indexing.html#returning-a-view-versus-a-copy\n",
            "  if __name__ == '__main__':\n"
          ]
        },
        {
          "output_type": "stream",
          "name": "stdout",
          "text": [
            "train -- (279792, 77)\n",
            "test -- (2974, 77)\n"
          ]
        }
      ]
    },
    {
      "cell_type": "code",
      "metadata": {
        "id": "AGEKfcEd05cH",
        "colab": {
          "base_uri": "https://localhost:8080/"
        },
        "outputId": "a3acb7fa-b4c0-4a85-a01e-ac5238f6d252"
      },
      "source": [
        "print(df.shape)"
      ],
      "execution_count": 103,
      "outputs": [
        {
          "output_type": "stream",
          "name": "stdout",
          "text": [
            "(282766, 73)\n"
          ]
        }
      ]
    },
    {
      "cell_type": "code",
      "metadata": {
        "colab": {
          "base_uri": "https://localhost:8080/"
        },
        "id": "eSPhTlk93g3z",
        "outputId": "d4e0de70-c0bd-43d4-fa07-22be74a74e5e"
      },
      "source": [
        "del train, test\n",
        "gc.collect()"
      ],
      "execution_count": 104,
      "outputs": [
        {
          "output_type": "execute_result",
          "data": {
            "text/plain": [
              "451"
            ]
          },
          "metadata": {},
          "execution_count": 104
        }
      ]
    },
    {
      "cell_type": "code",
      "metadata": {
        "id": "9r-immZ8qklq"
      },
      "source": [
        "predictors = list(df.columns.difference(['id', 'target', 'price_type']))\n",
        "df_train = df.iloc[:n_train].copy()\n",
        "cols_to_remove = [c for c in predictors if df_train[c].nunique() == 1]\n",
        "df.drop(cols_to_remove, axis=1, inplace=True)"
      ],
      "execution_count": 105,
      "outputs": []
    },
    {
      "cell_type": "code",
      "metadata": {
        "id": "pKDB7xYLrtmc"
      },
      "source": [
        "# Shuffle dataset\n",
        "df = df.iloc[np.random.permutation(len(df))]\n",
        "df.reset_index(drop=True, inplace=True)\n",
        "\n",
        "# Drop price type\n",
        "price_type_column = df['price_type']\n",
        "df.drop(['price_type'], axis=1, inplace=True)\n",
        "\n",
        "# Get target column name\n",
        "target = 'target'\n",
        "\n",
        "# lgb params\n",
        "lgb_params = {\n",
        "        'boosting': 'gbdt',\n",
        "        'application': 'binary',\n",
        "        'metric': 'auc', \n",
        "        'learning_rate': 0.001 ,\n",
        "        'num_leaves': 70,\n",
        "        'max_depth': 8,\n",
        "        'min_data_in_leaf': 21,\n",
        "        'bagging_fraction': 0.8,\n",
        "        'bagging_freq': 5,\n",
        "        'feature_fraction': 0.9,\n",
        "        'is_unbalance': True, \n",
        "} \n",
        "\n",
        "# Get folds for k-fold CV\n",
        "folds = KFold(n_splits = NFOLD, shuffle = True, random_state = 0)\n",
        "fold = folds.split(df)\n",
        "    \n",
        "eval_score = 0\n",
        "n_estimators = 0\n",
        "eval_preds = np.zeros(df.shape[0])"
      ],
      "execution_count": 106,
      "outputs": []
    },
    {
      "cell_type": "code",
      "metadata": {
        "id": "8ddcvRxCuHTg"
      },
      "source": [
        "data_numeric = df.select_dtypes(exclude=['object'])\n",
        "data_obj = df.select_dtypes(include=['object']).copy()"
      ],
      "execution_count": 107,
      "outputs": []
    },
    {
      "cell_type": "code",
      "metadata": {
        "id": "pEnR0g0cuHL5"
      },
      "source": [
        "for c in data_obj:\n",
        "    data_obj[c] = pd.factorize(data_obj[c])[0]"
      ],
      "execution_count": 108,
      "outputs": []
    },
    {
      "cell_type": "code",
      "metadata": {
        "id": "SH639tcZuHFY"
      },
      "source": [
        "df = pd.concat([data_numeric, data_obj], axis=1)\n",
        "y = df['target'];"
      ],
      "execution_count": 109,
      "outputs": []
    },
    {
      "cell_type": "code",
      "metadata": {
        "colab": {
          "base_uri": "https://localhost:8080/"
        },
        "id": "WoBbLA0or5X2",
        "outputId": "1110b1b2-67fa-4635-d0a8-57d7a44b7dbe"
      },
      "source": [
        "for i, (train_index, test_index) in enumerate(fold):\n",
        "    print( \"\\n[{}] Fold {} of {}\".format(datetime.datetime.now().strftime(\"%Y-%m-%d %H:%M:%S\"), i+1, NFOLD))\n",
        "    train_X, valid_X = df[predictors].values[train_index], df[predictors].values[test_index]\n",
        "    train_y, valid_y = df[target].values[train_index], df[target].values[test_index]\n",
        "\n",
        "    dtrain = lgb.Dataset(train_X, label = train_y,\n",
        "                          feature_name = list(predictors)\n",
        "                          )\n",
        "    \n",
        "    dvalid = lgb.Dataset(valid_X, label = valid_y,\n",
        "                          feature_name = list(predictors)\n",
        "                          )\n",
        "        \n",
        "    eval_results = {}\n",
        "    \n",
        "    bst = lgb.train(lgb_params, \n",
        "                         dtrain, \n",
        "                         valid_sets = [dtrain, dvalid], \n",
        "                         valid_names = ['train', 'valid'], \n",
        "                         evals_result = eval_results, \n",
        "                         num_boost_round = 500,\n",
        "                         early_stopping_rounds = 100,\n",
        "                         verbose_eval = 100)\n",
        "    \n",
        "    print(\"\\nRounds:\", bst.best_iteration)\n",
        "    print(\"AUC: \", eval_results['valid']['auc'][bst.best_iteration-1])\n",
        "\n",
        "    n_estimators += bst.best_iteration\n",
        "    eval_score += eval_results['valid']['auc'][bst.best_iteration-1]\n",
        "   \n",
        "    eval_preds[test_index] += bst.predict(valid_X, num_iteration = bst.best_iteration)\n",
        "    \n",
        "n_estimators = int(round(n_estimators/NFOLD,0))\n",
        "eval_score = round(eval_score/NFOLD,6)\n",
        "\n",
        "print(\"\\nModel Report\")\n",
        "print(\"Rounds: \", n_estimators)\n",
        "print(\"AUC: \", eval_score)    "
      ],
      "execution_count": 110,
      "outputs": [
        {
          "output_type": "stream",
          "name": "stdout",
          "text": [
            "\n",
            "[2021-09-25 21:01:59] Fold 1 of 5\n",
            "Training until validation scores don't improve for 100 rounds.\n",
            "[100]\ttrain's auc: 0.978258\tvalid's auc: 0.963682\n",
            "[200]\ttrain's auc: 0.979846\tvalid's auc: 0.964824\n",
            "[300]\ttrain's auc: 0.981213\tvalid's auc: 0.966547\n",
            "[400]\ttrain's auc: 0.982104\tvalid's auc: 0.967562\n",
            "[500]\ttrain's auc: 0.983068\tvalid's auc: 0.968776\n",
            "Did not meet early stopping. Best iteration is:\n",
            "[500]\ttrain's auc: 0.983068\tvalid's auc: 0.968776\n",
            "\n",
            "Rounds: 500\n",
            "AUC:  0.9687756289786946\n",
            "\n",
            "[2021-09-25 21:03:08] Fold 2 of 5\n",
            "Training until validation scores don't improve for 100 rounds.\n",
            "[100]\ttrain's auc: 0.97938\tvalid's auc: 0.971197\n",
            "[200]\ttrain's auc: 0.980461\tvalid's auc: 0.971331\n",
            "[300]\ttrain's auc: 0.982031\tvalid's auc: 0.972412\n",
            "[400]\ttrain's auc: 0.983055\tvalid's auc: 0.973023\n",
            "[500]\ttrain's auc: 0.983748\tvalid's auc: 0.973388\n",
            "Did not meet early stopping. Best iteration is:\n",
            "[499]\ttrain's auc: 0.983749\tvalid's auc: 0.97339\n",
            "\n",
            "Rounds: 499\n",
            "AUC:  0.9733901693584953\n",
            "\n",
            "[2021-09-25 21:04:19] Fold 3 of 5\n",
            "Training until validation scores don't improve for 100 rounds.\n",
            "[100]\ttrain's auc: 0.978501\tvalid's auc: 0.965401\n",
            "[200]\ttrain's auc: 0.980752\tvalid's auc: 0.967196\n",
            "[300]\ttrain's auc: 0.981776\tvalid's auc: 0.968215\n",
            "[400]\ttrain's auc: 0.982797\tvalid's auc: 0.96909\n",
            "[500]\ttrain's auc: 0.983455\tvalid's auc: 0.969573\n",
            "Did not meet early stopping. Best iteration is:\n",
            "[500]\ttrain's auc: 0.983455\tvalid's auc: 0.969573\n",
            "\n",
            "Rounds: 500\n",
            "AUC:  0.969573134858553\n",
            "\n",
            "[2021-09-25 21:05:26] Fold 4 of 5\n",
            "Training until validation scores don't improve for 100 rounds.\n",
            "[100]\ttrain's auc: 0.978844\tvalid's auc: 0.962332\n",
            "[200]\ttrain's auc: 0.980828\tvalid's auc: 0.964638\n",
            "[300]\ttrain's auc: 0.981703\tvalid's auc: 0.965733\n",
            "[400]\ttrain's auc: 0.982713\tvalid's auc: 0.96697\n",
            "[500]\ttrain's auc: 0.98343\tvalid's auc: 0.967834\n",
            "Did not meet early stopping. Best iteration is:\n",
            "[500]\ttrain's auc: 0.98343\tvalid's auc: 0.967834\n",
            "\n",
            "Rounds: 500\n",
            "AUC:  0.9678337831248879\n",
            "\n",
            "[2021-09-25 21:06:34] Fold 5 of 5\n",
            "Training until validation scores don't improve for 100 rounds.\n",
            "[100]\ttrain's auc: 0.978839\tvalid's auc: 0.962226\n",
            "[200]\ttrain's auc: 0.980785\tvalid's auc: 0.963081\n",
            "[300]\ttrain's auc: 0.982017\tvalid's auc: 0.9639\n",
            "[400]\ttrain's auc: 0.982904\tvalid's auc: 0.964756\n",
            "[500]\ttrain's auc: 0.98368\tvalid's auc: 0.965609\n",
            "Did not meet early stopping. Best iteration is:\n",
            "[500]\ttrain's auc: 0.98368\tvalid's auc: 0.965609\n",
            "\n",
            "Rounds: 500\n",
            "AUC:  0.9656088960414573\n",
            "\n",
            "Model Report\n",
            "Rounds:  500\n",
            "AUC:  0.969036\n"
          ]
        }
      ]
    },
    {
      "cell_type": "code",
      "metadata": {
        "colab": {
          "base_uri": "https://localhost:8080/",
          "height": 327
        },
        "id": "4D8M7Il6r-Ti",
        "outputId": "2c295e34-04c6-4150-952c-6a286a6c2fc3"
      },
      "source": [
        "plt.figure(figsize=(15, 8))\n",
        "lgb.plot_importance(bst, max_num_features=20)"
      ],
      "execution_count": 114,
      "outputs": [
        {
          "output_type": "execute_result",
          "data": {
            "text/plain": [
              "<matplotlib.axes._subplots.AxesSubplot at 0x7f9b0a0ab990>"
            ]
          },
          "metadata": {},
          "execution_count": 114
        },
        {
          "output_type": "display_data",
          "data": {
            "text/plain": [
              "<Figure size 1080x576 with 0 Axes>"
            ]
          },
          "metadata": {}
        },
        {
          "output_type": "display_data",
          "data": {
            "image/png": "[encoded data removed]",
            "text/plain": [
              "<Figure size 432x288 with 1 Axes>"
            ]
          },
          "metadata": {
            "needs_background": "light"
          }
        }
      ]
    },
    {
      "cell_type": "code",
      "metadata": {
        "colab": {
          "base_uri": "https://localhost:8080/",
          "height": 263
        },
        "id": "Shtm7z6E2TIm",
        "outputId": "76badda4-48cd-441e-da21-8d1a22ccca5e"
      },
      "source": [
        "df_av = df[['id', 'target']].copy()\n",
        "df_av['preds'] = eval_preds\n",
        "df_av_train = df_av[df_av.target == 1]\n",
        "df_av_train = df_av_train.sort_values(by=['preds']).reset_index(drop=True)\n",
        "\n",
        "# Check distribution\n",
        "df_av_train.preds.plot()\n",
        "\n",
        "# Store to feather\n",
        "df_av_train[['id', 'preds']].reset_index(drop=True).to_feather('adversarial_validation.ft')"
      ],
      "execution_count": 115,
      "outputs": [
        {
          "output_type": "display_data",
          "data": {
            "image/png": "[encoded data removed]",
            "text/plain": [
              "<Figure size 432x288 with 1 Axes>"
            ]
          },
          "metadata": {
            "needs_background": "light"
          }
        }
      ]
    },
    {
      "cell_type": "code",
      "metadata": {
        "colab": {
          "base_uri": "https://localhost:8080/",
          "height": 565
        },
        "id": "bZC22CxI6MZ_",
        "outputId": "81f83e6c-38aa-4679-c613-447e60f8a35c"
      },
      "source": [
        "plt.figure(figsize=(15, 8))\n",
        "sns.distplot(df_av_train['preds'])"
      ],
      "execution_count": 116,
      "outputs": [
        {
          "output_type": "stream",
          "name": "stderr",
          "text": [
            "/usr/local/lib/python3.7/dist-packages/seaborn/distributions.py:2619: FutureWarning: `distplot` is a deprecated function and will be removed in a future version. Please adapt your code to use either `displot` (a figure-level function with similar flexibility) or `histplot` (an axes-level function for histograms).\n",
            "  warnings.warn(msg, FutureWarning)\n"
          ]
        },
        {
          "output_type": "execute_result",
          "data": {
            "text/plain": [
              "<matplotlib.axes._subplots.AxesSubplot at 0x7f9b1b746810>"
            ]
          },
          "metadata": {},
          "execution_count": 116
        },
        {
          "output_type": "display_data",
          "data": {
            "image/png": "[encoded data removed]",
            "text/plain": [
              "<Figure size 1080x576 with 1 Axes>"
            ]
          },
          "metadata": {
            "needs_background": "light"
          }
        }
      ]
    },
    {
      "cell_type": "code",
      "metadata": {
        "colab": {
          "base_uri": "https://localhost:8080/"
        },
        "id": "OoI-XFRG9G_b",
        "outputId": "7b3282c3-a272-496b-eeae-c78285538daa"
      },
      "source": [
        "for th in [0.6, 0.7, 0.8]:\n",
        "    print(f\"Количество объектов трейна, которые модель слабо отличает от теста при пороге == {th}: {df_av_train[df_av_train['preds'] < th].shape[0]}\")"
      ],
      "execution_count": 117,
      "outputs": [
        {
          "output_type": "stream",
          "name": "stdout",
          "text": [
            "Количество объектов трейна, которые модель слабо отличает от теста при пороге == 0.6: 36\n",
            "Количество объектов трейна, которые модель слабо отличает от теста при пороге == 0.7: 8310\n",
            "Количество объектов трейна, которые модель слабо отличает от теста при пороге == 0.8: 26981\n"
          ]
        }
      ]
    },
    {
      "cell_type": "code",
      "metadata": {
        "id": "O1ZzEG-HG4mk"
      },
      "source": [
        "CONFIDENCE_RATE = 0.8\n",
        "\n",
        "similar_id = df_av_train[df_av_train['preds'] < CONFIDENCE_RATE]['id']\n",
        "similar_id.to_pickle('similar.pkl')\n",
        "\n",
        "df['price_type'] = price_type_column \n",
        "df.to_pickle('df.pkl')"
      ],
      "execution_count": 119,
      "outputs": []
    },
    {
      "cell_type": "code",
      "metadata": {
        "id": "MvEiXk6sjeh6",
        "outputId": "8a899f2e-82a1-427b-d417-084691c29a27",
        "colab": {
          "base_uri": "https://localhost:8080/"
        }
      },
      "source": [
        "df.shape"
      ],
      "execution_count": 120,
      "outputs": [
        {
          "output_type": "execute_result",
          "data": {
            "text/plain": [
              "(282766, 73)"
            ]
          },
          "metadata": {},
          "execution_count": 120
        }
      ]
    },
    {
      "cell_type": "code",
      "metadata": {
        "id": "rZ8yqvqq-FeA",
        "outputId": "5bcbb63c-46ea-4807-e037-aa6a9ee4b2d4",
        "colab": {
          "base_uri": "https://localhost:8080/"
        }
      },
      "source": [
        "df['price_type']"
      ],
      "execution_count": 121,
      "outputs": [
        {
          "output_type": "execute_result",
          "data": {
            "text/plain": [
              "0         0\n",
              "1         0\n",
              "2         0\n",
              "3         0\n",
              "4         0\n",
              "         ..\n",
              "282761    0\n",
              "282762    0\n",
              "282763    0\n",
              "282764    0\n",
              "282765    0\n",
              "Name: price_type, Length: 282766, dtype: int64"
            ]
          },
          "metadata": {},
          "execution_count": 121
        }
      ]
    },
    {
      "cell_type": "code",
      "metadata": {
        "id": "pqxR_0tq-HpU"
      },
      "source": [
        "def prepare(df):\n",
        "    df = df.drop(['city', 'osm_city_nearest_name', 'date'], axis=1)\n",
        "    df = df.fillna(0.0)\n",
        "    df.drop(['id'], axis=1, inplace=True)\n",
        "    df = df[pd.to_numeric(df['floor'], errors='coerce').notnull()]\n",
        "    df['floor'] = pd.to_numeric(df['floor'], errors='coerce')\n",
        "    # regions = df['region'].unique()\n",
        "    # reg_dict = dict(zip(regions, range(len(regions))))\n",
        "    # df['region'] = [reg_dict[r] for r in df['region']]\n",
        "    # df['street'] = [s if type(s) == float else float(s[1:]) for s in df['street']]\n",
        "    \n",
        "    return df.astype(float)"
      ],
      "execution_count": 122,
      "outputs": []
    },
    {
      "cell_type": "code",
      "metadata": {
        "id": "IIOE2N6r-O4p"
      },
      "source": [
        "similar = df[df['id'].isin(similar_id)]"
      ],
      "execution_count": 128,
      "outputs": []
    },
    {
      "cell_type": "code",
      "metadata": {
        "id": "IOS3wyviEAYe",
        "outputId": "e72b013d-486d-4561-efe3-09488f72b51d",
        "colab": {
          "base_uri": "https://localhost:8080/"
        }
      },
      "source": [
        "similar.shape"
      ],
      "execution_count": 129,
      "outputs": [
        {
          "output_type": "execute_result",
          "data": {
            "text/plain": [
              "(26981, 73)"
            ]
          },
          "metadata": {},
          "execution_count": 129
        }
      ]
    },
    {
      "cell_type": "code",
      "metadata": {
        "id": "KAGWPxInEsL0",
        "outputId": "b6fc5379-413f-4913-8d5c-9b2bc5f2064a",
        "colab": {
          "base_uri": "https://localhost:8080/"
        }
      },
      "source": [
        "ones_from_train = df[df['price_type'] == 1]\n",
        "ones_from_train.shape"
      ],
      "execution_count": 130,
      "outputs": [
        {
          "output_type": "execute_result",
          "data": {
            "text/plain": [
              "(7467, 73)"
            ]
          },
          "metadata": {},
          "execution_count": 130
        }
      ]
    },
    {
      "cell_type": "code",
      "metadata": {
        "id": "9GJdJ1ksF9L7"
      },
      "source": [
        "similarities = dict.fromkeys(similar['id'])"
      ],
      "execution_count": 140,
      "outputs": []
    },
    {
      "cell_type": "code",
      "metadata": {
        "id": "iPiKavLmJIXI"
      },
      "source": [
        "similarities[similar.loc[4, :]['id']]"
      ],
      "execution_count": 149,
      "outputs": []
    },
    {
      "cell_type": "code",
      "metadata": {
        "id": "7zrMdovMG9Q3",
        "outputId": "b83c9c2e-2c8b-42cb-a253-7f2f0045cb3c",
        "colab": {
          "base_uri": "https://localhost:8080/"
        }
      },
      "source": [
        "for v_1 in similar.index:\n",
        "    print(v_1)\n",
        "    break"
      ],
      "execution_count": 146,
      "outputs": [
        {
          "output_type": "stream",
          "name": "stdout",
          "text": [
            "4\n"
          ]
        }
      ]
    },
    {
      "cell_type": "code",
      "metadata": {
        "id": "uoFrGhwUNNtU"
      },
      "source": [
        "from tqdm import tqdm"
      ],
      "execution_count": 152,
      "outputs": []
    },
    {
      "cell_type": "code",
      "metadata": {
        "id": "nH-ntJa-E1kt",
        "outputId": "88aaef26-f58c-4025-b571-dc959699eaf2",
        "colab": {
          "base_uri": "https://localhost:8080/"
        }
      },
      "source": [
        "for i_1 in tqdm(similar.index):\n",
        "    best_sim = 0\n",
        "\n",
        "    for i_2 in ones_from_train.index:\n",
        "        cur_sim = cosine(similar.loc[i_1, :], ones_from_train.loc[i_2, :])\n",
        "        if cur_sim:\n",
        "            best_sim = cur_sim\n",
        "            best_vector = ones_from_train.loc[i_2, :]\n",
        "        \n",
        "    \n",
        "    similarities[similar.loc[i_1, :]['id']] = (best_vector, best_sim)"
      ],
      "execution_count": null,
      "outputs": [
        {
          "output_type": "stream",
          "name": "stderr",
          "text": [
            "  1%|          | 181/26981 [16:42<41:07:50,  5.53s/it]"
          ]
        }
      ]
    },
    {
      "cell_type": "code",
      "metadata": {
        "id": "PZ_y6KzANA8I"
      },
      "source": [
        ""
      ],
      "execution_count": null,
      "outputs": []
    }
  ]
}