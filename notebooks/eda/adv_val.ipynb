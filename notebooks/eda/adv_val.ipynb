{
  "nbformat": 4,
  "nbformat_minor": 0,
  "metadata": {
    "colab": {
      "name": "adv_val.ipynb",
      "provenance": []
    },
    "kernelspec": {
      "name": "python3",
      "display_name": "Python 3"
    },
    "language_info": {
      "name": "python"
    }
  },
  "cells": [
    {
      "cell_type": "code",
      "metadata": {
        "id": "TNxaARp1qOdW"
      },
      "source": [
        "import numpy as np\n",
        "import pandas as pd\n",
        "import gc\n",
        "import datetime\n",
        "\n",
        "from sklearn.model_selection import KFold\n",
        "import lightgbm as lgb\n",
        "\n",
        "import matplotlib.pylab as plt\n",
        "import seaborn as sns\n",
        "%matplotlib inline\n",
        "\n",
        "NFOLD = 5\n",
        "DATA_PATH = './'"
      ],
      "execution_count": 127,
      "outputs": []
    },
    {
      "cell_type": "code",
      "metadata": {
        "colab": {
          "base_uri": "https://localhost:8080/"
        },
        "id": "Y6XY3nWfqacV",
        "outputId": "8b3aa6f9-ba3b-42a9-c232-33490f27ce61"
      },
      "source": [
        "train = pd.read_csv(DATA_PATH + \"train.csv\")\n",
        "test = pd.read_csv(DATA_PATH + \"test.csv\")\n",
        "\n",
        "train.drop(['per_square_meter_price'], axis=1, inplace=True)\n",
        "train.drop(train[train['price_type'] == 1].index, inplace=True)\n",
        "\n",
        "# Mark train as 1, test as 0\n",
        "train['target'] = 1\n",
        "test['target'] = 0\n",
        "\n",
        "# Concat dataframes\n",
        "n_train = train.shape[0]\n",
        "df = pd.concat([train, test], axis = 0)\n",
        "df.drop(['date'], axis=1, inplace=True)\n",
        "df.drop(['price_type'], axis=1, inplace=True)"
      ],
      "execution_count": 190,
      "outputs": [
        {
          "output_type": "stream",
          "name": "stderr",
          "text": [
            "/usr/local/lib/python3.7/dist-packages/IPython/core/interactiveshell.py:2718: DtypeWarning: Columns (1) have mixed types.Specify dtype option on import or set low_memory=False.\n",
            "  interactivity=interactivity, compiler=compiler, result=result)\n"
          ]
        }
      ]
    },
    {
      "cell_type": "code",
      "metadata": {
        "colab": {
          "base_uri": "https://localhost:8080/"
        },
        "id": "eSPhTlk93g3z",
        "outputId": "440284ea-b0b9-4a0a-843f-c434ed9bca10"
      },
      "source": [
        "del train, test\n",
        "gc.collect()"
      ],
      "execution_count": 191,
      "outputs": [
        {
          "output_type": "execute_result",
          "data": {
            "text/plain": [
              "138"
            ]
          },
          "metadata": {},
          "execution_count": 191
        }
      ]
    },
    {
      "cell_type": "code",
      "metadata": {
        "id": "9r-immZ8qklq"
      },
      "source": [
        "predictors = list(df.columns.difference(['id', 'target']))\n",
        "df_train = df.iloc[:n_train].copy()\n",
        "cols_to_remove = [c for c in predictors if df_train[c].nunique() == 1]\n",
        "df.drop(cols_to_remove, axis=1, inplace=True)"
      ],
      "execution_count": 192,
      "outputs": []
    },
    {
      "cell_type": "code",
      "metadata": {
        "id": "pKDB7xYLrtmc"
      },
      "source": [
        "# Shuffle dataset\n",
        "df = df.iloc[np.random.permutation(len(df))]\n",
        "df.reset_index(drop=True, inplace=True)\n",
        "\n",
        "# Get target column name\n",
        "target = 'target'\n",
        "\n",
        "# lgb params\n",
        "lgb_params = {\n",
        "        'boosting': 'gbdt',\n",
        "        'application': 'binary',\n",
        "        'metric': 'auc', \n",
        "        'learning_rate': 0.1,\n",
        "        'num_leaves': 32,\n",
        "        'max_depth': 8,\n",
        "        'bagging_fraction': 0.7,\n",
        "        'bagging_freq': 5,\n",
        "        'feature_fraction': 0.7,\n",
        "}\n",
        "\n",
        "# Get folds for k-fold CV\n",
        "folds = KFold(n_splits = NFOLD, shuffle = True, random_state = 0)\n",
        "fold = folds.split(df)\n",
        "    \n",
        "eval_score = 0\n",
        "n_estimators = 0\n",
        "eval_preds = np.zeros(df.shape[0])"
      ],
      "execution_count": 193,
      "outputs": []
    },
    {
      "cell_type": "code",
      "metadata": {
        "id": "8ddcvRxCuHTg"
      },
      "source": [
        "data_numeric = df.select_dtypes(exclude=['object'])\n",
        "data_obj = df.select_dtypes(include=['object']).copy()"
      ],
      "execution_count": 194,
      "outputs": []
    },
    {
      "cell_type": "code",
      "metadata": {
        "id": "pEnR0g0cuHL5"
      },
      "source": [
        "for c in data_obj:\n",
        "    data_obj[c] = pd.factorize(data_obj[c])[0]"
      ],
      "execution_count": 195,
      "outputs": []
    },
    {
      "cell_type": "code",
      "metadata": {
        "id": "SH639tcZuHFY"
      },
      "source": [
        "df = pd.concat([data_numeric, data_obj], axis=1)\n",
        "y = df['target'];"
      ],
      "execution_count": 196,
      "outputs": []
    },
    {
      "cell_type": "code",
      "metadata": {
        "colab": {
          "base_uri": "https://localhost:8080/"
        },
        "id": "WoBbLA0or5X2",
        "outputId": "41011021-e66a-46c6-e154-480d95f169a4"
      },
      "source": [
        "for i, (train_index, test_index) in enumerate(fold):\n",
        "    print( \"\\n[{}] Fold {} of {}\".format(datetime.datetime.now().strftime(\"%Y-%m-%d %H:%M:%S\"), i+1, NFOLD))\n",
        "    train_X, valid_X = df[predictors].values[train_index], df[predictors].values[test_index]\n",
        "    train_y, valid_y = df[target].values[train_index], df[target].values[test_index]\n",
        "\n",
        "    dtrain = lgb.Dataset(train_X, label = train_y,\n",
        "                          feature_name = list(predictors)\n",
        "                          )\n",
        "    \n",
        "    dvalid = lgb.Dataset(valid_X, label = valid_y,\n",
        "                          feature_name = list(predictors)\n",
        "                          )\n",
        "        \n",
        "    eval_results = {}\n",
        "    \n",
        "    bst = lgb.train(lgb_params, \n",
        "                         dtrain, \n",
        "                         valid_sets = [dtrain, dvalid], \n",
        "                         valid_names = ['train', 'valid'], \n",
        "                         evals_result = eval_results, \n",
        "                         num_boost_round = 5000,\n",
        "                         early_stopping_rounds = 100,\n",
        "                         verbose_eval = 100)\n",
        "    \n",
        "    print(\"\\nRounds:\", bst.best_iteration)\n",
        "    print(\"AUC: \", eval_results['valid']['auc'][bst.best_iteration-1])\n",
        "\n",
        "    n_estimators += bst.best_iteration\n",
        "    eval_score += eval_results['valid']['auc'][bst.best_iteration-1]\n",
        "   \n",
        "    eval_preds[test_index] += bst.predict(valid_X, num_iteration = bst.best_iteration)\n",
        "    \n",
        "n_estimators = int(round(n_estimators/NFOLD,0))\n",
        "eval_score = round(eval_score/NFOLD,6)\n",
        "\n",
        "print(\"\\nModel Report\")\n",
        "print(\"Rounds: \", n_estimators)\n",
        "print(\"AUC: \", eval_score)    "
      ],
      "execution_count": 197,
      "outputs": [
        {
          "output_type": "stream",
          "name": "stdout",
          "text": [
            "\n",
            "[2021-09-24 23:37:57] Fold 1 of 5\n",
            "Training until validation scores don't improve for 100 rounds.\n",
            "[100]\ttrain's auc: 0.998362\tvalid's auc: 0.987501\n",
            "[200]\ttrain's auc: 0.999694\tvalid's auc: 0.987875\n",
            "Early stopping, best iteration is:\n",
            "[199]\ttrain's auc: 0.99969\tvalid's auc: 0.987897\n",
            "\n",
            "Rounds: 199\n",
            "AUC:  0.9878968492806861\n",
            "\n",
            "[2021-09-24 23:38:27] Fold 2 of 5\n",
            "Training until validation scores don't improve for 100 rounds.\n",
            "[100]\ttrain's auc: 0.998213\tvalid's auc: 0.98653\n",
            "[200]\ttrain's auc: 0.999725\tvalid's auc: 0.986642\n",
            "Early stopping, best iteration is:\n",
            "[163]\ttrain's auc: 0.999467\tvalid's auc: 0.986811\n",
            "\n",
            "Rounds: 163\n",
            "AUC:  0.986810989669384\n",
            "\n",
            "[2021-09-24 23:38:53] Fold 3 of 5\n",
            "Training until validation scores don't improve for 100 rounds.\n",
            "[100]\ttrain's auc: 0.998332\tvalid's auc: 0.987036\n",
            "[200]\ttrain's auc: 0.999756\tvalid's auc: 0.98709\n",
            "[300]\ttrain's auc: 0.999941\tvalid's auc: 0.987293\n",
            "[400]\ttrain's auc: 0.999984\tvalid's auc: 0.987568\n",
            "Early stopping, best iteration is:\n",
            "[399]\ttrain's auc: 0.999984\tvalid's auc: 0.987581\n",
            "\n",
            "Rounds: 399\n",
            "AUC:  0.9875806363950449\n",
            "\n",
            "[2021-09-24 23:39:41] Fold 4 of 5\n",
            "Training until validation scores don't improve for 100 rounds.\n",
            "[100]\ttrain's auc: 0.998322\tvalid's auc: 0.986764\n",
            "[200]\ttrain's auc: 0.999686\tvalid's auc: 0.986841\n",
            "Early stopping, best iteration is:\n",
            "[133]\ttrain's auc: 0.999101\tvalid's auc: 0.987162\n",
            "\n",
            "Rounds: 133\n",
            "AUC:  0.9871621077551698\n",
            "\n",
            "[2021-09-24 23:40:04] Fold 5 of 5\n",
            "Training until validation scores don't improve for 100 rounds.\n",
            "[100]\ttrain's auc: 0.99828\tvalid's auc: 0.988168\n",
            "[200]\ttrain's auc: 0.999736\tvalid's auc: 0.98871\n",
            "[300]\ttrain's auc: 0.999932\tvalid's auc: 0.988832\n",
            "Early stopping, best iteration is:\n",
            "[218]\ttrain's auc: 0.999794\tvalid's auc: 0.988968\n",
            "\n",
            "Rounds: 218\n",
            "AUC:  0.9889678825024038\n",
            "\n",
            "Model Report\n",
            "Rounds:  222\n",
            "AUC:  0.987684\n"
          ]
        }
      ]
    },
    {
      "cell_type": "code",
      "metadata": {
        "colab": {
          "base_uri": "https://localhost:8080/",
          "height": 327
        },
        "id": "4D8M7Il6r-Ti",
        "outputId": "5f5c2944-7d79-43b6-b369-8e73636c4039"
      },
      "source": [
        "plt.figure(figsize=(15, 8))\n",
        "lgb.plot_importance(bst, max_num_features=20)"
      ],
      "execution_count": 198,
      "outputs": [
        {
          "output_type": "execute_result",
          "data": {
            "text/plain": [
              "<matplotlib.axes._subplots.AxesSubplot at 0x7f0d25137a10>"
            ]
          },
          "metadata": {},
          "execution_count": 198
        },
        {
          "output_type": "display_data",
          "data": {
            "text/plain": [
              "<Figure size 1080x576 with 0 Axes>"
            ]
          },
          "metadata": {}
        },
        {
          "output_type": "display_data",
          "data": {
            "image/png": "[encoded data removed]",
            "text/plain": [
              "<Figure size 432x288 with 1 Axes>"
            ]
          },
          "metadata": {
            "needs_background": "light"
          }
        }
      ]
    },
    {
      "cell_type": "code",
      "metadata": {
        "colab": {
          "base_uri": "https://localhost:8080/",
          "height": 263
        },
        "id": "Shtm7z6E2TIm",
        "outputId": "1205dfa9-abe2-47c7-f061-ca333344a8b8"
      },
      "source": [
        "df_av = df[['id', 'target']].copy()\n",
        "df_av['preds'] = eval_preds\n",
        "df_av_train = df_av[df_av.target == 1]\n",
        "df_av_train = df_av_train.sort_values(by=['preds']).reset_index(drop=True)\n",
        "\n",
        "# Check distribution\n",
        "df_av_train.preds.plot()\n",
        "\n",
        "# Store to feather\n",
        "df_av_train[['id', 'preds']].reset_index(drop=True).to_feather('adversarial_validation.ft')"
      ],
      "execution_count": 202,
      "outputs": [
        {
          "output_type": "display_data",
          "data": {
            "image/png": "[encoded data removed]",
            "text/plain": [
              "<Figure size 432x288 with 1 Axes>"
            ]
          },
          "metadata": {
            "needs_background": "light"
          }
        }
      ]
    },
    {
      "cell_type": "markdown",
      "metadata": {
        "id": "2QXiWsQRHaza"
      },
      "source": [
        ""
      ]
    },
    {
      "cell_type": "code",
      "metadata": {
        "colab": {
          "base_uri": "https://localhost:8080/",
          "height": 565
        },
        "id": "bZC22CxI6MZ_",
        "outputId": "683fa172-f5fa-4784-e008-3a3a96300c0b"
      },
      "source": [
        "plt.figure(figsize=(15, 8))\n",
        "sns.distplot(df_av_train['preds'])"
      ],
      "execution_count": 172,
      "outputs": [
        {
          "output_type": "stream",
          "name": "stderr",
          "text": [
            "/usr/local/lib/python3.7/dist-packages/seaborn/distributions.py:2619: FutureWarning: `distplot` is a deprecated function and will be removed in a future version. Please adapt your code to use either `displot` (a figure-level function with similar flexibility) or `histplot` (an axes-level function for histograms).\n",
            "  warnings.warn(msg, FutureWarning)\n"
          ]
        },
        {
          "output_type": "execute_result",
          "data": {
            "text/plain": [
              "<matplotlib.axes._subplots.AxesSubplot at 0x7f0d39fdee50>"
            ]
          },
          "metadata": {},
          "execution_count": 172
        },
        {
          "output_type": "display_data",
          "data": {
            "image/png": "[encoded data removed]",
            "text/plain": [
              "<Figure size 1080x576 with 1 Axes>"
            ]
          },
          "metadata": {
            "needs_background": "light"
          }
        }
      ]
    },
    {
      "cell_type": "code",
      "metadata": {
        "colab": {
          "base_uri": "https://localhost:8080/"
        },
        "id": "OoI-XFRG9G_b",
        "outputId": "ab6e41cc-3c74-4d77-e4dd-0a315aeb8142"
      },
      "source": [
        "print(f\"Количество объектов трейна, которые модель слабо отличает от теста: {Total df_av_train[df_av_train['preds'] < 0.6].shape[0]}\")"
      ],
      "execution_count": 215,
      "outputs": [
        {
          "output_type": "execute_result",
          "data": {
            "text/plain": [
              "487"
            ]
          },
          "metadata": {},
          "execution_count": 215
        }
      ]
    }
  ]
}