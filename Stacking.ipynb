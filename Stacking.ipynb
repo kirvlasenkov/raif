{
 "cells": [
  {
   "cell_type": "code",
   "execution_count": 1,
   "id": "cd8a2e4a",
   "metadata": {},
   "outputs": [],
   "source": [
    "import numpy as np\n",
    "import pandas as pd\n",
    "import matplotlib.pyplot as plt\n",
    "import lightgbm as lgb\n",
    "from lightgbm import LGBMRegressor\n",
    "import xgboost as xgb\n",
    "from xgboost import XGBRegressor\n",
    "from catboost import CatBoostRegressor\n",
    "from sklearn.ensemble import StackingRegressor\n",
    "from sklearn.linear_model import LinearRegression\n",
    "from utils.orventro import deviation_metric_optimized, dev_metric\n",
    "from datetime import datetime\n",
    "\n",
    "xgb.set_config(verbosity=0)"
   ]
  },
  {
   "cell_type": "code",
   "execution_count": 30,
   "id": "442a3a38",
   "metadata": {},
   "outputs": [],
   "source": [
    "train_df = pd.read_csv('./data/train.csv', index_col='id')\n",
    "target = 'per_square_meter_price'"
   ]
  },
  {
   "cell_type": "code",
   "execution_count": 31,
   "id": "2f8cb79f",
   "metadata": {},
   "outputs": [],
   "source": [
    "def prep(df):\n",
    "    df = df.drop(['city', 'osm_city_nearest_name', 'date'], axis=1)\n",
    "    df['floor'] = np.where(pd.to_numeric(df['floor'], errors='coerce').isnull().to_numpy(), \n",
    "                           -1, \n",
    "                           df['floor'].to_numpy())\n",
    "    df['floor'] = pd.to_numeric(df['floor'], errors='coerce')\n",
    "    regions = df['region'].unique()\n",
    "    reg_dict = dict(zip(regions, range(len(regions))))\n",
    "    print(reg_dict)\n",
    "    df['region'] = [reg_dict[r] for r in df['region']]\n",
    "    df['street'] = [s if type(s) == float else float(s[1:]) for s in df['street']]\n",
    "    return df.astype(float)"
   ]
  },
  {
   "cell_type": "code",
   "execution_count": 32,
   "id": "53d36593",
   "metadata": {},
   "outputs": [
    {
     "name": "stdout",
     "output_type": "stream",
     "text": [
      "{'Пермский край': 0, 'Московская область': 1, 'Ярославская область': 2, 'Кемеровская область': 3, 'Москва': 4, 'Самарская область': 5, 'Татарстан': 6, 'Саратовская область': 7, 'Краснодарский край': 8, 'Свердловская область': 9, 'Брянская область': 10, 'Башкортостан': 11, 'Калининградская область': 12, 'Челябинская область': 13, 'Воронежская область': 14, 'Томская область': 15, 'Санкт-Петербург': 16, 'Ростовская область': 17, 'Орловская область': 18, 'Тульская область': 19, 'Белгородская область': 20, 'Нижегородская область': 21, 'Вологодская область': 22, 'Мордовия': 23, 'Омская область': 24, 'Алтайский край': 25, 'Иркутская область': 26, 'Удмуртия': 27, 'Ставропольский край': 28, 'Ханты-Мансийский АО': 29, 'Пензенская область': 30, 'Тюменская область': 31, 'Ленинградская область': 32, 'Ульяновская область': 33, 'Калужская область': 34, 'Красноярский край': 35, 'Смоленская область': 36, 'Костромская область': 37, 'Волгоградская область': 38, 'Кировская область': 39, 'Курская область': 40, 'Адыгея': 41, 'Ивановская область': 42, 'Коми': 43, 'Липецкая область': 44, 'Новосибирская область': 45, 'Приморский край': 46, 'Карелия': 47, 'Алтай': 48}\n"
     ]
    }
   ],
   "source": [
    "train_df = prep(train_df)\n",
    "# valid = train_df.iloc[100000:]\n",
    "train = train_df"
   ]
  },
  {
   "cell_type": "code",
   "execution_count": 5,
   "id": "d3249bf3",
   "metadata": {},
   "outputs": [],
   "source": [
    "def test_model1(model, train, valid):\n",
    "    model.fit(train.drop([target], axis=1), train[target])\n",
    "    pred = model.predict(valid.drop([target], axis=1))\n",
    "    err = deviation_metric_optimized(pred, valid[target].to_numpy())\n",
    "    print(model, err)"
   ]
  },
  {
   "cell_type": "code",
   "execution_count": 21,
   "id": "c72e5234",
   "metadata": {
    "scrolled": true
   },
   "outputs": [],
   "source": [
    "def train_stack(train):\n",
    "    weights = train['price_type'].to_numpy() * 99 + 1\n",
    "#     model_cat = CatBoostRegressor(iterations=100, verbose=0)\n",
    "#                                  loss_function=deviation_metric_optimized,\n",
    "#                                  eval_metric=deviation_metric_optimized)\n",
    "    model_xgb = XGBRegressor(device='GPU')#, obj=dev_metric)\n",
    "    model_lgb = LGBMRegressor(device='GPU')#, objective=dev_metric)\n",
    "    level0 = list()\n",
    "#     level0.append(('cat', model_cat))\n",
    "    level0.append(('xgb', model_xgb))\n",
    "    level0.append(('lgb', model_lgb))\n",
    "\n",
    "    model_logreg = LinearRegression()\n",
    "\n",
    "    model = StackingRegressor(estimators=level0, \n",
    "                              final_estimator=model_logreg, \n",
    "                              cv=5)\n",
    "    model.fit(train.drop([target], axis=1), \n",
    "              train[target],\n",
    "              sample_weight=weights)\n",
    "    return model\n",
    "\n",
    "def validate_stack(stack, valid):\n",
    "    pred = stack.predict(valid.drop([target], axis=1))\n",
    "    weights = valid['price_type'] * 99 + 1\n",
    "    return deviation_metric_optimized(valid[target], pred, weights)\n",
    "\n",
    "def predict(stack, save):\n",
    "    test_df = pd.read_csv('./data/test.csv', index_col='id')\n",
    "    test_df = prep(test_df)\n",
    "    \n",
    "    pred = pd.DataFrame(index=test_df.index)\n",
    "    pred.insert(0, target, stack.predict(test_df)/8) #WILL REMOVE\n",
    "    if save:\n",
    "        pred.to_csv(f'./out_{datetime.now().time()}.csv')\n",
    "    \n",
    "    out_df = pd.read_csv('./out.csv', index_col='id')\n",
    "    print(deviation_metric_optimized(pred[target], out_df[target]))"
   ]
  },
  {
   "cell_type": "code",
   "execution_count": 11,
   "id": "5b0ca704",
   "metadata": {},
   "outputs": [],
   "source": [
    "stack = train_stack(train)"
   ]
  },
  {
   "cell_type": "code",
   "execution_count": 12,
   "id": "2685400d",
   "metadata": {},
   "outputs": [],
   "source": [
    "# err = validate_stack(stack, valid)\n",
    "# print(err)"
   ]
  },
  {
   "cell_type": "code",
   "execution_count": 22,
   "id": "94d69c4f",
   "metadata": {},
   "outputs": [
    {
     "name": "stdout",
     "output_type": "stream",
     "text": [
      "3.6816240454948934\n"
     ]
    }
   ],
   "source": [
    "predict(stack, False)"
   ]
  },
  {
   "cell_type": "code",
   "execution_count": null,
   "id": "da77b051",
   "metadata": {},
   "outputs": [],
   "source": [
    "xgb.set_config(verbosity=1)\n",
    "model_xgb = XGBRegressor(device='GPU')#, obj=dev_metric)\n",
    "test_model1(model_xgb, train, valid)"
   ]
  },
  {
   "cell_type": "code",
   "execution_count": null,
   "id": "8caaabf4",
   "metadata": {},
   "outputs": [],
   "source": []
  }
 ],
 "metadata": {
  "kernelspec": {
   "display_name": "Python 3 (ipykernel)",
   "language": "python",
   "name": "python3"
  },
  "language_info": {
   "codemirror_mode": {
    "name": "ipython",
    "version": 3
   },
   "file_extension": ".py",
   "mimetype": "text/x-python",
   "name": "python",
   "nbconvert_exporter": "python",
   "pygments_lexer": "ipython3",
   "version": "3.8.10"
  }
 },
 "nbformat": 4,
 "nbformat_minor": 5
}
