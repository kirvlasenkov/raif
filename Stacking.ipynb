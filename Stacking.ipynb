{
 "cells": [
  {
   "cell_type": "code",
   "execution_count": 6,
   "id": "f26e359e",
   "metadata": {},
   "outputs": [],
   "source": [
    "import numpy as np\n",
    "import pandas as pd\n",
    "import matplotlib.pyplot as plt\n",
    "import lightgbm as lgb\n",
    "import xgboost as xgb\n",
    "from catboost import CatBoostRegressor\n",
    "from sklearn.ensemble import StackingRegressor"
   ]
  },
  {
   "cell_type": "code",
   "execution_count": 47,
   "id": "1e77c8ab",
   "metadata": {},
   "outputs": [],
   "source": [
    "train_df = pd.read_csv('./data/train.csv', index_col='id').drop(['city', 'osm_city_nearest_name', 'date'], axis=1)\n",
    "train_df = train_df[pd.to_numeric(train_df['floor'], errors='coerce').notnull()]\n",
    "train_df['floor'] = pd.to_numeric(train_df['floor'], errors='coerce')\n",
    "train_df = train_df.fillna(0.0)\n",
    "# train_df['street'] = [int(s[1:]) for s in train_df['street']]"
   ]
  },
  {
   "cell_type": "code",
   "execution_count": 48,
   "id": "979fadb7",
   "metadata": {},
   "outputs": [],
   "source": [
    "train_df['street'] = [s if type(s) == float else float(s[1:]) for s in train_df['street']]\n",
    "# print(train_df['street'])\n",
    "# train_df['street'].head(100).to_numpy()\n",
    "# train_df.astype(float)"
   ]
  },
  {
   "cell_type": "code",
   "execution_count": 68,
   "id": "1b0a4908",
   "metadata": {},
   "outputs": [],
   "source": [
    "# dict(train_df.dtypes)\n",
    "# train_df.dtypes.to_numpy()\n",
    "regions = train_df['region'].unique()\n",
    "reg_dict = dict(zip(regions, range(len(regions))))\n",
    "train_df['region'] = [reg_dict[r] for r in train_df['region']]\n",
    "train_df = train_df.astype(float)"
   ]
  },
  {
   "cell_type": "code",
   "execution_count": null,
   "id": "eab6eed3",
   "metadata": {},
   "outputs": [],
   "source": [
    "cat_params = {}\n",
    "\n",
    "model_cat = CatBoostClassifier(iterations=1000, \n",
    "                           task_type=\"GPU\")"
   ]
  }
 ],
 "metadata": {
  "kernelspec": {
   "display_name": "Python 3 (ipykernel)",
   "language": "python",
   "name": "python3"
  },
  "language_info": {
   "codemirror_mode": {
    "name": "ipython",
    "version": 3
   },
   "file_extension": ".py",
   "mimetype": "text/x-python",
   "name": "python",
   "nbconvert_exporter": "python",
   "pygments_lexer": "ipython3",
   "version": "3.8.10"
  }
 },
 "nbformat": 4,
 "nbformat_minor": 5
}
