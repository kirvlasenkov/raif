{
 "cells": [
  {
   "cell_type": "code",
   "execution_count": 2,
   "id": "95c567eb",
   "metadata": {},
   "outputs": [],
   "source": [
    "import sys\n",
    "import os\n",
    "\n",
    "from bayes_opt import BayesianOptimization, SequentialDomainReductionTransformer\n",
    "from bayes_opt.event import Events\n",
    "from bayes_opt.logger import JSONLogger\n",
    "from catboost import CatBoostRegressor, Pool\n",
    "from joblib import delayed, Parallel\n",
    "import numpy as np\n",
    "import pandas as pd\n",
    "import plotly.express as px\n",
    "from sklearn.linear_model import LinearRegression\n",
    "from sklearn.metrics import r2_score\n",
    "from sklearn.model_selection import KFold, train_test_split\n",
    "from sklearn.preprocessing import PolynomialFeatures\n",
    "from tqdm.notebook import tqdm\n",
    "\n",
    "import warnings\n",
    "warnings.filterwarnings(\"ignore\")\n",
    "\n",
    "module_path = os.path.abspath(os.path.join('../../../'))\n",
    "if module_path not in sys.path:\n",
    "    sys.path.append(module_path + \"/scripts/yk4r2-dataset-loader/\")\n",
    "\n",
    "from dataset_utils import DataSetsLoader, realized_volatility, RMSPE, unique_counter"
   ]
  },
  {
   "cell_type": "code",
   "execution_count": 3,
   "id": "d818810e",
   "metadata": {},
   "outputs": [],
   "source": [
    "agg_functions = [np.sum, np.mean, np.std]\n",
    "\n",
    "book_features = {\n",
    "    'wap1': agg_functions,\n",
    "    'wap2': agg_functions,\n",
    "    'log_return1': agg_functions + [realized_volatility],\n",
    "    'log_return2': agg_functions + [realized_volatility],\n",
    "    'wap_balance': agg_functions,\n",
    "    'price_spread1': agg_functions,\n",
    "    'price_spread2': agg_functions,\n",
    "    'bid_spread': agg_functions,\n",
    "    'ask_spread': agg_functions,\n",
    "    'total_volume': agg_functions,\n",
    "    'volume_imbalance': agg_functions,\n",
    "}\n",
    "\n",
    "trade_features = {\n",
    "    'log_return': [realized_volatility],\n",
    "    'seconds_in_bucket': [unique_counter],\n",
    "    'size': [np.sum],\n",
    "    'order_count': [np.mean],\n",
    "}"
   ]
  },
  {
   "cell_type": "code",
   "execution_count": 4,
   "id": "897c7d28",
   "metadata": {},
   "outputs": [
    {
     "name": "stdout",
     "output_type": "stream",
     "text": [
      "Our training set has 428932 rows\n"
     ]
    },
    {
     "name": "stderr",
     "output_type": "stream",
     "text": [
      "[Parallel(n_jobs=-1)]: Using backend LokyBackend with 16 concurrent workers.\n",
      "[Parallel(n_jobs=-1)]: Done  18 tasks      | elapsed:   27.7s\n",
      "[Parallel(n_jobs=-1)]: Done 112 out of 112 | elapsed:  1.7min finished\n",
      "[Parallel(n_jobs=-1)]: Using backend LokyBackend with 16 concurrent workers.\n",
      "[Parallel(n_jobs=-1)]: Done   1 out of   1 | elapsed:    0.1s finished\n"
     ]
    },
    {
     "name": "stdout",
     "output_type": "stream",
     "text": [
      "CPU times: user 7.36 s, sys: 3.78 s, total: 11.1 s\n",
      "Wall time: 1min 53s\n"
     ]
    }
   ],
   "source": [
    "%%time\n",
    "data = DataSetsLoader('../../../data/', book_features, trade_features)\n",
    "data.get_datasets()"
   ]
  },
  {
   "cell_type": "code",
   "execution_count": 5,
   "id": "4e56cc12",
   "metadata": {},
   "outputs": [],
   "source": [
    "optimized_params = dict(\n",
    "    iterations = 1000, \n",
    "    depth = 8, \n",
    "    learning_rate = 1, \n",
    "    loss_function = 'RMSE',\n",
    "    use_best_model = True,\n",
    "    random_seed = 29,\n",
    "    bagging_temperature = 0.95,\n",
    "    task_type = \"GPU\",\n",
    "    verbose = 0,\n",
    ")"
   ]
  },
  {
   "cell_type": "code",
   "execution_count": 1,
   "id": "48fc02cd",
   "metadata": {},
   "outputs": [],
   "source": [
    "def get_model(**params):\n",
    "    return CatBoostRegressor(**params)\n",
    "\n",
    "def foldwise_prediction(fold, trn_ind, val_ind, params, oof_predictions):\n",
    "    x_train, x_val = x.iloc[trn_ind], x.iloc[val_ind]\n",
    "    y_train, y_val = y.iloc[trn_ind], y.iloc[val_ind]\n",
    "    train_weights = 1 / np.square(y_train)\n",
    "    val_weights = 1 / np.square(y_val)\n",
    "\n",
    "    train_pool = Pool(x_train, y_train, weight=train_weights)\n",
    "    val_pool = Pool(x_val, y_val, weight=val_weights)\n",
    "    test_pool = Pool(x_test)\n",
    "\n",
    "    params_init = optimized_params\n",
    "    params_init.update(params)\n",
    "\n",
    "    params_init['depth'] = int(round(params_init['depth']))\n",
    "    model = get_model(**params_init)\n",
    "    model.fit(train_pool, eval_set = val_pool)\n",
    "\n",
    "    oof_predictions[val_ind] = model.predict(val_pool)\n",
    "    return oof_predictions\n",
    "\n",
    "def validate(params):\n",
    "    oof_predictions = np.zeros(x.shape[0])\n",
    "    test_predictions = np.zeros(x_test.shape[0])\n",
    "    kfold = KFold(n_splits=5, random_state=66, shuffle=True)\n",
    "    for fold, (trn_ind, val_ind) in enumerate(kfold.split(x)):\n",
    "        oof_predictions = foldwise_prediction(fold, trn_ind, val_ind, params, oof_predictions)\n",
    "    print('Work in progress.')\n",
    "    return oof_predictions\n",
    "\n",
    "def evaluate_model(**params):\n",
    "    oof_predictions = validate(params)\n",
    "    current_score = -np.sum(RMSPE(y.values, oof_predictions))\n",
    "    return current_score"
   ]
  },
  {
   "cell_type": "code",
   "execution_count": 42,
   "id": "0e8a20da",
   "metadata": {},
   "outputs": [],
   "source": [
    "pbounds = {\n",
    "    'learning_rate': (1e-4, 1e-1),\n",
    "    'depth': (6, 12),\n",
    "    'l2_leaf_reg': (1e-3, 1e2),\n",
    "    'random_strength': (1e-2, 10),\n",
    "    'bagging_temperature': (0, 10),\n",
    "}"
   ]
  },
  {
   "cell_type": "code",
   "execution_count": 11,
   "id": "9fd98420",
   "metadata": {},
   "outputs": [],
   "source": [
    "x = data.train.drop(['row_id', 'target', 'time_id'], axis=1)\n",
    "y = data.train['target']\n",
    "x_test = data.test.drop(['row_id', 'time_id'], axis=1)\n",
    "\n",
    "x['stock_id'] = x['stock_id'].astype(int)\n",
    "x_test['stock_id'] = x_test['stock_id'].astype(int)"
   ]
  },
  {
   "cell_type": "code",
   "execution_count": 50,
   "id": "23aa42a7",
   "metadata": {},
   "outputs": [
    {
     "name": "stdout",
     "output_type": "stream",
     "text": [
      "It is working!\n",
      "It is working!\n",
      "It is working!\n",
      "It is working!\n",
      "It is working!\n",
      "It is working!\n",
      "It is working!\n",
      "It is working!\n",
      "It is working!\n",
      "It is working!\n",
      "It is working!\n",
      "It is working!\n",
      "It is working!\n",
      "It is working!\n",
      "It is working!\n",
      "It is working!\n",
      "It is working!\n",
      "It is working!\n",
      "It is working!\n",
      "It is working!\n",
      "It is working!\n",
      "It is working!\n",
      "It is working!\n",
      "It is working!\n",
      "It is working!\n",
      "It is working!\n",
      "It is working!\n",
      "It is working!\n",
      "It is working!\n",
      "It is working!\n",
      "It is working!\n",
      "It is working!\n",
      "It is working!\n",
      "It is working!\n",
      "It is working!\n",
      "It is working!\n",
      "It is working!\n",
      "It is working!\n",
      "It is working!\n",
      "It is working!\n",
      "It is working!\n",
      "It is working!\n",
      "It is working!\n",
      "It is working!\n",
      "It is working!\n",
      "It is working!\n",
      "It is working!\n",
      "It is working!\n",
      "It is working!\n",
      "It is working!\n",
      "It is working!\n",
      "It is working!\n",
      "It is working!\n",
      "It is working!\n",
      "It is working!\n",
      "It is working!\n",
      "It is working!\n",
      "It is working!\n",
      "It is working!\n",
      "It is working!\n",
      "It is working!\n",
      "It is working!\n",
      "It is working!\n",
      "It is working!\n",
      "It is working!\n",
      "It is working!\n",
      "It is working!\n",
      "It is working!\n",
      "It is working!\n",
      "It is working!\n",
      "It is working!\n",
      "It is working!\n",
      "It is working!\n",
      "It is working!\n",
      "It is working!\n",
      "It is working!\n",
      "It is working!\n",
      "It is working!\n",
      "It is working!\n",
      "It is working!\n",
      "It is working!\n",
      "It is working!\n",
      "It is working!\n",
      "It is working!\n",
      "It is working!\n",
      "It is working!\n",
      "It is working!\n",
      "It is working!\n",
      "It is working!\n",
      "It is working!\n",
      "It is working!\n",
      "It is working!\n",
      "It is working!\n",
      "It is working!\n",
      "It is working!\n",
      "It is working!\n",
      "It is working!\n",
      "It is working!\n",
      "It is working!\n",
      "It is working!\n",
      "It is working!\n"
     ]
    },
    {
     "data": {
      "text/plain": [
       "{'target': -61656.37255996844,\n",
       " 'params': {'bagging_temperature': 0.0,\n",
       "  'depth': 7.831029203164766,\n",
       "  'l2_leaf_reg': 66.82288764247305,\n",
       "  'learning_rate': 0.1,\n",
       "  'random_strength': 4.46219815406808}}"
      ]
     },
     "execution_count": 50,
     "metadata": {},
     "output_type": "execute_result"
    }
   ],
   "source": [
    "# bounds_transformer = SequentialDomainReductionTransformer()\n",
    "optimizer = BayesianOptimization(evaluate_model, pbounds, random_state=42)#, bounds_transformer=bounds_transformer)\n",
    "\n",
    "logger = JSONLogger(path=\"bayesian_search_logs/logs.json\")\n",
    "optimizer.subscribe(Events.OPTIMIZATION_STEP, logger)\n",
    "\n",
    "optimizer.maximize(init_points=2, n_iter=100, kappa=10)\n",
    "\n",
    "optimizer.max\n",
    "# optimized params one can find in ./logs.json"
   ]
  },
  {
   "cell_type": "code",
   "execution_count": 51,
   "id": "b011aa7a",
   "metadata": {},
   "outputs": [
    {
     "data": {
      "text/plain": [
       "{'target': -61656.37255996844,\n",
       " 'params': {'bagging_temperature': 0.0,\n",
       "  'depth': 7.831029203164766,\n",
       "  'l2_leaf_reg': 66.82288764247305,\n",
       "  'learning_rate': 0.1,\n",
       "  'random_strength': 4.46219815406808}}"
      ]
     },
     "execution_count": 51,
     "metadata": {},
     "output_type": "execute_result"
    }
   ],
   "source": [
    "optimizer.max"
   ]
  },
  {
   "cell_type": "code",
   "execution_count": 19,
   "id": "01fd4b8d",
   "metadata": {},
   "outputs": [],
   "source": [
    "optimized_params = {\n",
    "    'iterations': 1000,\n",
    "    'bagging_temperature': 0.0,\n",
    "    'depth': 8,\n",
    "    'use_best_model': True,\n",
    "    'random_seed': 29,\n",
    "    'l2_leaf_reg': 66.82288764247305,\n",
    "    'learning_rate': 0.1,\n",
    "    'random_strength': 4.46219815406808,\n",
    "    'task_type': 'GPU',\n",
    "    'verbose': 0,\n",
    "}"
   ]
  },
  {
   "cell_type": "code",
   "execution_count": 20,
   "id": "012ee7e9",
   "metadata": {},
   "outputs": [],
   "source": [
    "pbounds = {\n",
    "    'depth': (8, 14),\n",
    "    'l2_leaf_reg': (4e1, 1e2),\n",
    "    'random_strength': (4.5, 10),\n",
    "    'min_data_in_leaf': (1, 1000),\n",
    "}"
   ]
  },
  {
   "cell_type": "code",
   "execution_count": 35,
   "id": "adaffd8f",
   "metadata": {},
   "outputs": [],
   "source": [
    "def get_model(**params):\n",
    "    return CatBoostRegressor(**params)\n",
    "\n",
    "def foldwise_prediction(fold, trn_ind, val_ind, params, oof_predictions):\n",
    "    x_train, x_val = x.iloc[trn_ind], x.iloc[val_ind]\n",
    "    y_train, y_val = y.iloc[trn_ind], y.iloc[val_ind]\n",
    "    train_weights = 1 / np.square(y_train)\n",
    "    val_weights = 1 / np.square(y_val)\n",
    "\n",
    "    train_pool = Pool(x_train, y_train, weight=train_weights)\n",
    "    val_pool = Pool(x_val, y_val, weight=val_weights)\n",
    "    test_pool = Pool(x_test)\n",
    "\n",
    "    params_init = optimized_params\n",
    "    params_init.update(params)\n",
    "\n",
    "    params_init['depth'] = int(round(params_init['depth']))\n",
    "    params_init['min_data_in_leaf'] = int(round(params_init['min_data_in_leaf']))\n",
    "    params_init['border_count'] = int(round(params_init['border_count']))\n",
    "\n",
    "    model = get_model(**params_init)\n",
    "    model.fit(train_pool, eval_set = val_pool)\n",
    "\n",
    "    oof_predictions[val_ind] = model.predict(val_pool)\n",
    "    return oof_predictions\n",
    "\n",
    "def validate(params):\n",
    "    oof_predictions = np.zeros(x.shape[0])\n",
    "    test_predictions = np.zeros(x_test.shape[0])\n",
    "    kfold = KFold(n_splits=5, random_state=66, shuffle=True)\n",
    "    for fold, (trn_ind, val_ind) in enumerate(kfold.split(x)):\n",
    "        oof_predictions = foldwise_prediction(fold, trn_ind, val_ind, params, oof_predictions)\n",
    "    print('Work in progress.')\n",
    "    return oof_predictions\n",
    "\n",
    "def evaluate_model(**params):\n",
    "    oof_predictions = validate(params)\n",
    "    current_score = -np.sum(RMSPE(y.values, oof_predictions))\n",
    "    return current_score"
   ]
  },
  {
   "cell_type": "code",
   "execution_count": 25,
   "id": "6e193961",
   "metadata": {
    "scrolled": true
   },
   "outputs": [
    {
     "name": "stderr",
     "output_type": "stream",
     "text": [
      "Custom logger is already specified. Specify more than one logger at same time is not thread safe."
     ]
    },
    {
     "name": "stdout",
     "output_type": "stream",
     "text": [
      "Work in progress.\n",
      "Work in progress.\n",
      "Work in progress.\n",
      "Work in progress.\n",
      "Work in progress.\n",
      "Work in progress.\n",
      "Work in progress.\n",
      "Work in progress.\n",
      "Work in progress.\n",
      "Work in progress.\n",
      "Work in progress.\n",
      "Work in progress.\n",
      "Work in progress.\n",
      "Work in progress.\n",
      "Work in progress.\n",
      "Work in progress.\n",
      "Work in progress.\n",
      "Work in progress.\n",
      "Work in progress.\n",
      "Work in progress.\n",
      "Work in progress.\n",
      "Work in progress.\n",
      "Work in progress.\n",
      "Work in progress.\n",
      "Work in progress.\n",
      "Work in progress.\n",
      "Work in progress.\n",
      "Work in progress.\n",
      "Work in progress.\n",
      "Work in progress.\n",
      "Work in progress.\n",
      "Work in progress.\n",
      "Work in progress.\n",
      "Work in progress.\n",
      "Work in progress.\n",
      "Work in progress.\n",
      "Work in progress.\n",
      "Work in progress.\n",
      "Work in progress.\n",
      "Work in progress.\n",
      "Work in progress.\n",
      "Work in progress.\n",
      "Work in progress.\n",
      "Work in progress.\n",
      "Work in progress.\n",
      "Work in progress.\n",
      "Work in progress.\n",
      "Work in progress.\n",
      "Work in progress.\n",
      "Work in progress.\n",
      "Work in progress.\n"
     ]
    },
    {
     "data": {
      "text/plain": [
       "{'target': -61264.19407447548,\n",
       " 'params': {'depth': 8.910879015694857,\n",
       "  'l2_leaf_reg': 87.33605827474537,\n",
       "  'min_data_in_leaf': 748.4768070719027,\n",
       "  'random_strength': 4.602399651075166}}"
      ]
     },
     "execution_count": 25,
     "metadata": {},
     "output_type": "execute_result"
    }
   ],
   "source": [
    "# bounds_transformer = SequentialDomainReductionTransformer()\n",
    "optimizer = BayesianOptimization(evaluate_model, pbounds, random_state=42)#, bounds_transformer=bounds_transformer)\n",
    "\n",
    "logger = JSONLogger(path=\"bayesian_search_logs/logs_2.json\")\n",
    "optimizer.subscribe(Events.OPTIMIZATION_STEP, logger)\n",
    "\n",
    "optimizer.maximize(init_points=4, n_iter=50, kappa=5)\n",
    "\n",
    "optimizer.max\n",
    "# optimized params one can find in ./logs_2.json"
   ]
  },
  {
   "cell_type": "code",
   "execution_count": 28,
   "id": "aa6086d4",
   "metadata": {},
   "outputs": [],
   "source": [
    "optimized_params = {\n",
    "    'iterations': 1000,\n",
    "    'bagging_temperature': 0.0,\n",
    "    'depth': 9,\n",
    "    'use_best_model': True,\n",
    "    'random_seed': 29,\n",
    "    'l2_leaf_reg': 87.33605827474537,\n",
    "    'learning_rate': 0.1,\n",
    "    'random_strength': 4.602399651075166,\n",
    "    'min_data_in_leaf': 750,\n",
    "    'task_type': 'GPU',\n",
    "    'verbose': 0,\n",
    "}"
   ]
  },
  {
   "cell_type": "code",
   "execution_count": 29,
   "id": "e10293c3",
   "metadata": {},
   "outputs": [],
   "source": [
    "pbounds = {\n",
    "    'od_pval': (1e-10, 1e-2),\n",
    "    'border_count': (32, 254),\n",
    "}"
   ]
  },
  {
   "cell_type": "code",
   "execution_count": 36,
   "id": "5dcfe183",
   "metadata": {
    "scrolled": true
   },
   "outputs": [
    {
     "name": "stdout",
     "output_type": "stream",
     "text": [
      "Work in progress.\n",
      "Work in progress.\n",
      "Work in progress.\n",
      "Work in progress.\n",
      "Work in progress.\n",
      "Work in progress.\n",
      "Work in progress.\n",
      "Work in progress.\n",
      "Work in progress.\n",
      "Work in progress.\n",
      "Work in progress.\n",
      "Work in progress.\n",
      "Work in progress.\n",
      "Work in progress.\n",
      "Work in progress.\n",
      "Work in progress.\n",
      "Work in progress.\n",
      "Work in progress.\n",
      "Work in progress.\n",
      "Work in progress.\n",
      "Work in progress.\n",
      "Work in progress.\n",
      "Work in progress.\n",
      "Work in progress.\n",
      "Work in progress.\n",
      "Work in progress.\n",
      "Work in progress.\n",
      "Work in progress.\n",
      "Work in progress.\n",
      "Work in progress.\n",
      "Work in progress.\n",
      "Work in progress.\n",
      "Work in progress.\n",
      "Work in progress.\n",
      "Work in progress.\n",
      "Work in progress.\n",
      "Work in progress.\n",
      "Work in progress.\n",
      "Work in progress.\n",
      "Work in progress.\n",
      "Work in progress.\n",
      "Work in progress.\n",
      "Work in progress.\n",
      "Work in progress.\n",
      "Work in progress.\n",
      "Work in progress.\n",
      "Work in progress.\n",
      "Work in progress.\n",
      "Work in progress.\n",
      "Work in progress.\n",
      "Work in progress.\n",
      "Work in progress.\n",
      "Work in progress.\n",
      "Work in progress.\n"
     ]
    },
    {
     "data": {
      "text/plain": [
       "{'target': -61227.30182455127,\n",
       " 'params': {'border_count': 192.570851493023, 'od_pval': 0.003640704772242277}}"
      ]
     },
     "execution_count": 36,
     "metadata": {},
     "output_type": "execute_result"
    }
   ],
   "source": [
    "# bounds_transformer = SequentialDomainReductionTransformer()\n",
    "optimizer = BayesianOptimization(evaluate_model, pbounds, random_state=42)#, bounds_transformer=bounds_transformer)\n",
    "\n",
    "logger = JSONLogger(path=\"bayesian_search_logs/logs_3.json\")\n",
    "optimizer.subscribe(Events.OPTIMIZATION_STEP, logger)\n",
    "\n",
    "optimizer.maximize(init_points=4, n_iter=50, kappa=5)\n",
    "\n",
    "optimizer.max\n",
    "# optimized params one can find in ./logs_2.json"
   ]
  },
  {
   "cell_type": "code",
   "execution_count": 50,
   "id": "9b20e017",
   "metadata": {},
   "outputs": [],
   "source": [
    "optimized_params = {\n",
    "    'iterations': 1000,\n",
    "    'bagging_temperature': 0.0,\n",
    "    'depth': 9,\n",
    "    'use_best_model': True,\n",
    "    'random_seed': 29,\n",
    "    'l2_leaf_reg': 87.33605827474537,\n",
    "    'learning_rate': 0.1,\n",
    "    'random_strength': 4.602399651075166,\n",
    "    'min_data_in_leaf': 750,\n",
    "    'border_count': 193,\n",
    "    'od_pval': 0.003640704772242277,\n",
    "    'task_type': 'GPU',\n",
    "    'verbose': 0,\n",
    "    'random_seed': 42,\n",
    "}"
   ]
  },
  {
   "cell_type": "code",
   "execution_count": null,
   "id": "5d79e5df",
   "metadata": {},
   "outputs": [],
   "source": []
  }
 ],
 "metadata": {
  "interpreter": {
   "hash": "0be136f6fe32e17681ca93fda3ce511ec0c5a6147795395a50aac643d2072211"
  },
  "kernelspec": {
   "display_name": "Python 3 (ipykernel)",
   "language": "python",
   "name": "python3"
  },
  "language_info": {
   "codemirror_mode": {
    "name": "ipython",
    "version": 3
   },
   "file_extension": ".py",
   "mimetype": "text/x-python",
   "name": "python",
   "nbconvert_exporter": "python",
   "pygments_lexer": "ipython3",
   "version": "3.8.10"
  }
 },
 "nbformat": 4,
 "nbformat_minor": 5
}
